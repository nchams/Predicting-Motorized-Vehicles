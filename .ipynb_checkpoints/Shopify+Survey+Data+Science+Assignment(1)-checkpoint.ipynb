{
 "cells": [
  {
   "cell_type": "code",
   "execution_count": 2,
   "metadata": {
    "collapsed": true
   },
   "outputs": [],
   "source": [
    "# Import necessary modules\n",
    "%matplotlib inline\n",
    "import numpy as np\n",
    "import pandas as pd\n",
    "import matplotlib.pyplot as plt"
   ]
  },
  {
   "cell_type": "code",
   "execution_count": 3,
   "metadata": {
    "collapsed": false
   },
   "outputs": [
    {
     "ename": "NameError",
     "evalue": "name 'pd' is not defined",
     "output_type": "error",
     "traceback": [
      "\u001b[0;31m---------------------------------------------------------------------------\u001b[0m",
      "\u001b[0;31mNameError\u001b[0m                                 Traceback (most recent call last)",
      "\u001b[0;32m<ipython-input-3-e402d8d7378a>\u001b[0m in \u001b[0;36m<module>\u001b[0;34m()\u001b[0m\n\u001b[1;32m      1\u001b[0m \u001b[0;31m# upload survey data\u001b[0m\u001b[0;34m\u001b[0m\u001b[0;34m\u001b[0m\u001b[0m\n\u001b[0;32m----> 2\u001b[0;31m \u001b[0msurvey\u001b[0m \u001b[0;34m=\u001b[0m \u001b[0mpd\u001b[0m\u001b[0;34m.\u001b[0m\u001b[0mread_csv\u001b[0m\u001b[0;34m(\u001b[0m\u001b[0;34m\"E-Bike_Survey_Responses.csv\"\u001b[0m\u001b[0;34m)\u001b[0m\u001b[0;34m\u001b[0m\u001b[0m\n\u001b[0m",
      "\u001b[0;31mNameError\u001b[0m: name 'pd' is not defined"
     ]
    }
   ],
   "source": [
    "# upload survey data\n",
    "survey = pd.read_csv(\"E-Bike_Survey_Responses.csv\")"
   ]
  },
  {
   "cell_type": "code",
   "execution_count": 9,
   "metadata": {
    "collapsed": false
   },
   "outputs": [
    {
     "data": {
      "text/html": [
       "<div>\n",
       "<table border=\"1\" class=\"dataframe\">\n",
       "  <thead>\n",
       "    <tr style=\"text-align: right;\">\n",
       "      <th></th>\n",
       "      <th>Timestamp</th>\n",
       "      <th>What age range do you fall in?</th>\n",
       "      <th>Sex</th>\n",
       "      <th>How would you describe your level of physical health?</th>\n",
       "      <th>What level of education have you reached?</th>\n",
       "      <th>What is your household income?</th>\n",
       "      <th>Which category best describes your employment?</th>\n",
       "      <th>What Toronto district is your primary address located in?</th>\n",
       "      <th>On average what distance do you travel most days of the week?</th>\n",
       "      <th>On average how long is your commute?</th>\n",
       "      <th>...</th>\n",
       "      <th>Do you support any of the following statements?</th>\n",
       "      <th>When you use Toronto's Multi-Use Trails do you mostly</th>\n",
       "      <th>Are you aware that the Multi-Use Paths have a speed limit of 20 km/h?</th>\n",
       "      <th>Have you witnessed a collision or conflict on a trail between</th>\n",
       "      <th>Do you think more should be done to manage trail users who do not respect the 20 km/h speed limit?</th>\n",
       "      <th>Currently any kind of e-bike may use a multi-use path if they are propelled by pedaling only and those propelled by motor power may be fined</th>\n",
       "      <th>When you use Toronto's bicycle lanes do you mostly</th>\n",
       "      <th>Currently any kind of e-bike may use a bicycle lane if they are propelled by pedaling only and those propelled by motor power may be fined</th>\n",
       "      <th>With regards to illegal use of bicycles and e-bikes on sidewalks should the City</th>\n",
       "      <th>Toronto Bylaws consider personal mobility devices (such as electric wheel chairs) to be pedestrians In your opinion should the City</th>\n",
       "    </tr>\n",
       "  </thead>\n",
       "  <tbody>\n",
       "    <tr>\n",
       "      <th>0</th>\n",
       "      <td>2013-04-10 12:10</td>\n",
       "      <td>35 to 49</td>\n",
       "      <td>Male</td>\n",
       "      <td>Good</td>\n",
       "      <td>Post graduate</td>\n",
       "      <td>$100K+</td>\n",
       "      <td>Self Employed</td>\n",
       "      <td>Central Toronto York or East York</td>\n",
       "      <td>Under 2 km</td>\n",
       "      <td>15 minutes or less</td>\n",
       "      <td>...</td>\n",
       "      <td>On scooter type e-bikes the pedals are unneces...</td>\n",
       "      <td>drive a motor propelled e-bike</td>\n",
       "      <td>No</td>\n",
       "      <td>pedestrians and/or runners a conflict relating...</td>\n",
       "      <td>No - the trails are fine as they are</td>\n",
       "      <td>The bylaw should be modified to allow any kind...</td>\n",
       "      <td>drive a scooter type e-bike propelled by an el...</td>\n",
       "      <td>The bylaw should be modified to allow e-bikes ...</td>\n",
       "      <td>be tolerant of bikes and e-bikes on the walksi...</td>\n",
       "      <td>Institute a speed limit for sidewalks</td>\n",
       "    </tr>\n",
       "    <tr>\n",
       "      <th>1</th>\n",
       "      <td>2013-04-10 12:30</td>\n",
       "      <td>18 to 34</td>\n",
       "      <td>Male</td>\n",
       "      <td>Excellent</td>\n",
       "      <td>University degree</td>\n",
       "      <td>$40K to $59K</td>\n",
       "      <td>Full Time</td>\n",
       "      <td>Central Toronto York or East York</td>\n",
       "      <td>10 - 20 km</td>\n",
       "      <td>30 - 44 minutes</td>\n",
       "      <td>...</td>\n",
       "      <td>On scooter type e-bikes the pedals are unneces...</td>\n",
       "      <td>I very rarely use any of Toronto's Multi-Use P...</td>\n",
       "      <td>No</td>\n",
       "      <td>I am not aware of any conflicts on the trails</td>\n",
       "      <td>No - the trails are fine as they are</td>\n",
       "      <td>No changes are necessary to the existing bylaw</td>\n",
       "      <td>drive a scooter type e-bike propelled by an el...</td>\n",
       "      <td>The bylaw should be modified to allow e-bikes ...</td>\n",
       "      <td>maintain the existing programs for signage edu...</td>\n",
       "      <td>Do nothing</td>\n",
       "    </tr>\n",
       "    <tr>\n",
       "      <th>2</th>\n",
       "      <td>2013-04-10 12:33</td>\n",
       "      <td>50 to 64</td>\n",
       "      <td>Male</td>\n",
       "      <td>Good</td>\n",
       "      <td>University degree</td>\n",
       "      <td>$40K to $59K</td>\n",
       "      <td>Self Employed</td>\n",
       "      <td>Central Toronto York or East York</td>\n",
       "      <td>10 - 20 km</td>\n",
       "      <td>15 minutes or less</td>\n",
       "      <td>...</td>\n",
       "      <td>Most scooter type e-bikes are wider than a bic...</td>\n",
       "      <td>cycle I very rarely use any of Toronto's Multi...</td>\n",
       "      <td>No</td>\n",
       "      <td>I am not aware of any conflicts on the trails</td>\n",
       "      <td>Yes - more signage Yes - more enforcement (tic...</td>\n",
       "      <td>No changes are necessary to the existing bylaw</td>\n",
       "      <td>ride a road bicycle or a fixie</td>\n",
       "      <td>No changes are necessary to the existing bylaw</td>\n",
       "      <td>increase signage increase enforcement increase...</td>\n",
       "      <td>only wheelchairs at walking speed</td>\n",
       "    </tr>\n",
       "    <tr>\n",
       "      <th>3</th>\n",
       "      <td>2013-04-10 12:52</td>\n",
       "      <td>50 to 64</td>\n",
       "      <td>Male</td>\n",
       "      <td>Good</td>\n",
       "      <td>4 years university no degree</td>\n",
       "      <td>$80K to $99K</td>\n",
       "      <td>Self Employed</td>\n",
       "      <td>Central Toronto York or East York</td>\n",
       "      <td>Under 2 km</td>\n",
       "      <td>15 minutes or less</td>\n",
       "      <td>...</td>\n",
       "      <td>On scooter type e-bikes the pedals are unneces...</td>\n",
       "      <td>cycle</td>\n",
       "      <td>No</td>\n",
       "      <td>a conflict between cyclists and pedestrians a ...</td>\n",
       "      <td>Yes - more signage Yes - more enforcement (tic...</td>\n",
       "      <td>Motorized vehicles should generally not be all...</td>\n",
       "      <td>ride a commuter or cruiser style bicycle</td>\n",
       "      <td>Motorized vehicles should generally not be all...</td>\n",
       "      <td>increase signage increase enforcement</td>\n",
       "      <td>Update the definition of a personal mobility d...</td>\n",
       "    </tr>\n",
       "    <tr>\n",
       "      <th>4</th>\n",
       "      <td>2013-04-10 13:24</td>\n",
       "      <td>18 to 34</td>\n",
       "      <td>Male</td>\n",
       "      <td>Very good</td>\n",
       "      <td>College or trade school diploma</td>\n",
       "      <td>$40K to $59K</td>\n",
       "      <td>Self Employed</td>\n",
       "      <td>Central Toronto York or East York</td>\n",
       "      <td>5 - 10 km</td>\n",
       "      <td>15 minutes or less</td>\n",
       "      <td>...</td>\n",
       "      <td>Most scooter type e-bikes are wider than a bic...</td>\n",
       "      <td>cycle I very rarely use any of Toronto's Multi...</td>\n",
       "      <td>No</td>\n",
       "      <td>I am not aware of any conflicts on the trails</td>\n",
       "      <td>No - the trails are fine as they are</td>\n",
       "      <td>Motorized vehicles should generally not be all...</td>\n",
       "      <td>ride a road bicycle or a fixie</td>\n",
       "      <td>Motorized vehicles should generally not be all...</td>\n",
       "      <td>maintain the existing programs for signage edu...</td>\n",
       "      <td>Update the definition of a personal mobility d...</td>\n",
       "    </tr>\n",
       "    <tr>\n",
       "      <th>5</th>\n",
       "      <td>2013-04-10 13:26</td>\n",
       "      <td>35 to 49</td>\n",
       "      <td>Male</td>\n",
       "      <td>Very good</td>\n",
       "      <td>College or trade school diploma</td>\n",
       "      <td>$40K to $59K</td>\n",
       "      <td>Full Time</td>\n",
       "      <td>Central Toronto York or East York</td>\n",
       "      <td>10 - 20 km</td>\n",
       "      <td>16 - 29 minutes</td>\n",
       "      <td>...</td>\n",
       "      <td>scooter style e-bikes are different than pedal...</td>\n",
       "      <td>cycle</td>\n",
       "      <td>No</td>\n",
       "      <td>a conflict between e-biker and a cyclist</td>\n",
       "      <td>Yes - more educational programs</td>\n",
       "      <td>Motorized vehicles should generally not be all...</td>\n",
       "      <td>ride a road bicycle or a fixie</td>\n",
       "      <td>Motorized vehicles should generally not be all...</td>\n",
       "      <td>increase education</td>\n",
       "      <td>Update the definition of a personal mobility d...</td>\n",
       "    </tr>\n",
       "    <tr>\n",
       "      <th>6</th>\n",
       "      <td>2013-04-10 13:27</td>\n",
       "      <td>18 to 34</td>\n",
       "      <td>Male</td>\n",
       "      <td>Good</td>\n",
       "      <td>College or trade school diploma</td>\n",
       "      <td>$100K+</td>\n",
       "      <td>Full Time</td>\n",
       "      <td>Central Toronto York or East York</td>\n",
       "      <td>5 - 10 km</td>\n",
       "      <td>15 minutes or less</td>\n",
       "      <td>...</td>\n",
       "      <td>scooter style e-bikes are different than pedal...</td>\n",
       "      <td>cycle</td>\n",
       "      <td>No</td>\n",
       "      <td>a conflict relating to a dog(s) a conflict bet...</td>\n",
       "      <td>Yes - more signage Yes - more educational prog...</td>\n",
       "      <td>The bylaw should be modified to allow any kind...</td>\n",
       "      <td>ride a commuter or cruiser style bicycle</td>\n",
       "      <td>An e-bike should never be in a bike lane</td>\n",
       "      <td>increase signage increase enforcement increase...</td>\n",
       "      <td>Update the definition of a personal mobility d...</td>\n",
       "    </tr>\n",
       "    <tr>\n",
       "      <th>7</th>\n",
       "      <td>2013-04-10 13:28</td>\n",
       "      <td>35 to 49</td>\n",
       "      <td>Male</td>\n",
       "      <td>Very good</td>\n",
       "      <td>Post graduate</td>\n",
       "      <td>$100K+</td>\n",
       "      <td>Full Time</td>\n",
       "      <td>Central Toronto York or East York</td>\n",
       "      <td>Under 2 km</td>\n",
       "      <td>15 minutes or less</td>\n",
       "      <td>...</td>\n",
       "      <td>scooter style e-bikes are different than pedal...</td>\n",
       "      <td>run</td>\n",
       "      <td>No</td>\n",
       "      <td>pedestrians and/or runners a conflict relating...</td>\n",
       "      <td>Yes - more signage</td>\n",
       "      <td>Motorized vehicles should generally not be all...</td>\n",
       "      <td>ride a mountain downhill or BMX bicycle</td>\n",
       "      <td>Motorized vehicles should generally not be all...</td>\n",
       "      <td>maintain the existing programs for signage edu...</td>\n",
       "      <td>Update the definition of a personal mobility d...</td>\n",
       "    </tr>\n",
       "    <tr>\n",
       "      <th>8</th>\n",
       "      <td>2013-04-10 13:31</td>\n",
       "      <td>35 to 49</td>\n",
       "      <td>Female</td>\n",
       "      <td>Fairly good</td>\n",
       "      <td>Post graduate</td>\n",
       "      <td>$80K to $99K</td>\n",
       "      <td>Unemployed</td>\n",
       "      <td>Central Toronto York or East York</td>\n",
       "      <td>5 - 10 km</td>\n",
       "      <td>15 minutes or less</td>\n",
       "      <td>...</td>\n",
       "      <td>scooter style e-bikes are different than pedal...</td>\n",
       "      <td>walk</td>\n",
       "      <td>No</td>\n",
       "      <td>a conflict relating to a dog(s) a conflict bet...</td>\n",
       "      <td>Yes - more signage Yes - more enforcement (tic...</td>\n",
       "      <td>No changes are necessary to the existing bylaw</td>\n",
       "      <td>ride a mountain downhill or BMX bicycle</td>\n",
       "      <td>The bylaw should be modified to allow e-bikes ...</td>\n",
       "      <td>increase signage increase enforcement increase...</td>\n",
       "      <td>Update the definition of a personal mobility d...</td>\n",
       "    </tr>\n",
       "    <tr>\n",
       "      <th>9</th>\n",
       "      <td>2013-04-10 13:33</td>\n",
       "      <td>18 to 34</td>\n",
       "      <td>Male</td>\n",
       "      <td>Good</td>\n",
       "      <td>College or trade school diploma</td>\n",
       "      <td>$60K to $79K</td>\n",
       "      <td>Full Time</td>\n",
       "      <td>Central Toronto York or East York</td>\n",
       "      <td>20 -35 km</td>\n",
       "      <td>15 minutes or less</td>\n",
       "      <td>...</td>\n",
       "      <td>scooter style e-bikes are different than pedal...</td>\n",
       "      <td>walk</td>\n",
       "      <td>No</td>\n",
       "      <td>I am not aware of any conflicts on the trails</td>\n",
       "      <td>Yes - more signage Yes - more enforcement (tic...</td>\n",
       "      <td>No changes are necessary to the existing bylaw</td>\n",
       "      <td>ride a commuter or cruiser style bicycle</td>\n",
       "      <td>No changes are necessary to the existing bylaw</td>\n",
       "      <td>increase signage increase enforcement increase...</td>\n",
       "      <td>Update the definition of a personal mobility d...</td>\n",
       "    </tr>\n",
       "  </tbody>\n",
       "</table>\n",
       "<p>10 rows × 22 columns</p>\n",
       "</div>"
      ],
      "text/plain": [
       "          Timestamp What age range do you fall in?     Sex  \\\n",
       "0  2013-04-10 12:10                       35 to 49    Male   \n",
       "1  2013-04-10 12:30                       18 to 34    Male   \n",
       "2  2013-04-10 12:33                       50 to 64    Male   \n",
       "3  2013-04-10 12:52                       50 to 64    Male   \n",
       "4  2013-04-10 13:24                       18 to 34    Male   \n",
       "5  2013-04-10 13:26                       35 to 49    Male   \n",
       "6  2013-04-10 13:27                       18 to 34    Male   \n",
       "7  2013-04-10 13:28                       35 to 49    Male   \n",
       "8  2013-04-10 13:31                       35 to 49  Female   \n",
       "9  2013-04-10 13:33                       18 to 34    Male   \n",
       "\n",
       "  How would you describe your level of physical health?  \\\n",
       "0                                               Good      \n",
       "1                                          Excellent      \n",
       "2                                               Good      \n",
       "3                                               Good      \n",
       "4                                          Very good      \n",
       "5                                          Very good      \n",
       "6                                               Good      \n",
       "7                                          Very good      \n",
       "8                                        Fairly good      \n",
       "9                                               Good      \n",
       "\n",
       "  What level of education have you reached? What is your household income?  \\\n",
       "0                             Post graduate                         $100K+   \n",
       "1                         University degree                   $40K to $59K   \n",
       "2                         University degree                   $40K to $59K   \n",
       "3              4 years university no degree                   $80K to $99K   \n",
       "4           College or trade school diploma                   $40K to $59K   \n",
       "5           College or trade school diploma                   $40K to $59K   \n",
       "6           College or trade school diploma                         $100K+   \n",
       "7                             Post graduate                         $100K+   \n",
       "8                             Post graduate                   $80K to $99K   \n",
       "9           College or trade school diploma                   $60K to $79K   \n",
       "\n",
       "  Which category best describes your employment?  \\\n",
       "0                                  Self Employed   \n",
       "1                                      Full Time   \n",
       "2                                  Self Employed   \n",
       "3                                  Self Employed   \n",
       "4                                  Self Employed   \n",
       "5                                      Full Time   \n",
       "6                                      Full Time   \n",
       "7                                      Full Time   \n",
       "8                                     Unemployed   \n",
       "9                                      Full Time   \n",
       "\n",
       "  What Toronto district is your primary address located in?  \\\n",
       "0                  Central Toronto York or East York          \n",
       "1                  Central Toronto York or East York          \n",
       "2                  Central Toronto York or East York          \n",
       "3                  Central Toronto York or East York          \n",
       "4                  Central Toronto York or East York          \n",
       "5                  Central Toronto York or East York          \n",
       "6                  Central Toronto York or East York          \n",
       "7                  Central Toronto York or East York          \n",
       "8                  Central Toronto York or East York          \n",
       "9                  Central Toronto York or East York          \n",
       "\n",
       "  On average what distance do you travel most days of the week?  \\\n",
       "0                                         Under 2 km              \n",
       "1                                         10 - 20 km              \n",
       "2                                         10 - 20 km              \n",
       "3                                         Under 2 km              \n",
       "4                                          5 - 10 km              \n",
       "5                                         10 - 20 km              \n",
       "6                                          5 - 10 km              \n",
       "7                                         Under 2 km              \n",
       "8                                          5 - 10 km              \n",
       "9                                          20 -35 km              \n",
       "\n",
       "  On average how long is your commute?  \\\n",
       "0                   15 minutes or less   \n",
       "1                      30 - 44 minutes   \n",
       "2                   15 minutes or less   \n",
       "3                   15 minutes or less   \n",
       "4                   15 minutes or less   \n",
       "5                      16 - 29 minutes   \n",
       "6                   15 minutes or less   \n",
       "7                   15 minutes or less   \n",
       "8                   15 minutes or less   \n",
       "9                   15 minutes or less   \n",
       "\n",
       "                                                                  ...                                                                  \\\n",
       "0                                                                 ...                                                                   \n",
       "1                                                                 ...                                                                   \n",
       "2                                                                 ...                                                                   \n",
       "3                                                                 ...                                                                   \n",
       "4                                                                 ...                                                                   \n",
       "5                                                                 ...                                                                   \n",
       "6                                                                 ...                                                                   \n",
       "7                                                                 ...                                                                   \n",
       "8                                                                 ...                                                                   \n",
       "9                                                                 ...                                                                   \n",
       "\n",
       "     Do you support any of the following statements?  \\\n",
       "0  On scooter type e-bikes the pedals are unneces...   \n",
       "1  On scooter type e-bikes the pedals are unneces...   \n",
       "2  Most scooter type e-bikes are wider than a bic...   \n",
       "3  On scooter type e-bikes the pedals are unneces...   \n",
       "4  Most scooter type e-bikes are wider than a bic...   \n",
       "5  scooter style e-bikes are different than pedal...   \n",
       "6  scooter style e-bikes are different than pedal...   \n",
       "7  scooter style e-bikes are different than pedal...   \n",
       "8  scooter style e-bikes are different than pedal...   \n",
       "9  scooter style e-bikes are different than pedal...   \n",
       "\n",
       "  When you use Toronto's Multi-Use Trails do you mostly  \\\n",
       "0                     drive a motor propelled e-bike      \n",
       "1  I very rarely use any of Toronto's Multi-Use P...      \n",
       "2  cycle I very rarely use any of Toronto's Multi...      \n",
       "3                                              cycle      \n",
       "4  cycle I very rarely use any of Toronto's Multi...      \n",
       "5                                              cycle      \n",
       "6                                              cycle      \n",
       "7                                                run      \n",
       "8                                               walk      \n",
       "9                                               walk      \n",
       "\n",
       "  Are you aware that the Multi-Use Paths have a speed limit of 20 km/h?  \\\n",
       "0                                                 No                      \n",
       "1                                                 No                      \n",
       "2                                                 No                      \n",
       "3                                                 No                      \n",
       "4                                                 No                      \n",
       "5                                                 No                      \n",
       "6                                                 No                      \n",
       "7                                                 No                      \n",
       "8                                                 No                      \n",
       "9                                                 No                      \n",
       "\n",
       "  Have you witnessed a collision or conflict on a trail between  \\\n",
       "0  pedestrians and/or runners a conflict relating...              \n",
       "1      I am not aware of any conflicts on the trails              \n",
       "2      I am not aware of any conflicts on the trails              \n",
       "3  a conflict between cyclists and pedestrians a ...              \n",
       "4      I am not aware of any conflicts on the trails              \n",
       "5           a conflict between e-biker and a cyclist              \n",
       "6  a conflict relating to a dog(s) a conflict bet...              \n",
       "7  pedestrians and/or runners a conflict relating...              \n",
       "8  a conflict relating to a dog(s) a conflict bet...              \n",
       "9      I am not aware of any conflicts on the trails              \n",
       "\n",
       "  Do you think more should be done to manage trail users who do not respect the 20 km/h speed limit?  \\\n",
       "0               No - the trails are fine as they are                                                   \n",
       "1               No - the trails are fine as they are                                                   \n",
       "2  Yes - more signage Yes - more enforcement (tic...                                                   \n",
       "3  Yes - more signage Yes - more enforcement (tic...                                                   \n",
       "4               No - the trails are fine as they are                                                   \n",
       "5                    Yes - more educational programs                                                   \n",
       "6  Yes - more signage Yes - more educational prog...                                                   \n",
       "7                                 Yes - more signage                                                   \n",
       "8  Yes - more signage Yes - more enforcement (tic...                                                   \n",
       "9  Yes - more signage Yes - more enforcement (tic...                                                   \n",
       "\n",
       "  Currently any kind of e-bike may use a multi-use path if they are propelled by pedaling only and those propelled by motor power may be fined   \\\n",
       "0  The bylaw should be modified to allow any kind...                                                                                              \n",
       "1     No changes are necessary to the existing bylaw                                                                                              \n",
       "2     No changes are necessary to the existing bylaw                                                                                              \n",
       "3  Motorized vehicles should generally not be all...                                                                                              \n",
       "4  Motorized vehicles should generally not be all...                                                                                              \n",
       "5  Motorized vehicles should generally not be all...                                                                                              \n",
       "6  The bylaw should be modified to allow any kind...                                                                                              \n",
       "7  Motorized vehicles should generally not be all...                                                                                              \n",
       "8     No changes are necessary to the existing bylaw                                                                                              \n",
       "9     No changes are necessary to the existing bylaw                                                                                              \n",
       "\n",
       "  When you use Toronto's bicycle lanes do you mostly  \\\n",
       "0  drive a scooter type e-bike propelled by an el...   \n",
       "1  drive a scooter type e-bike propelled by an el...   \n",
       "2                     ride a road bicycle or a fixie   \n",
       "3           ride a commuter or cruiser style bicycle   \n",
       "4                     ride a road bicycle or a fixie   \n",
       "5                     ride a road bicycle or a fixie   \n",
       "6           ride a commuter or cruiser style bicycle   \n",
       "7            ride a mountain downhill or BMX bicycle   \n",
       "8            ride a mountain downhill or BMX bicycle   \n",
       "9           ride a commuter or cruiser style bicycle   \n",
       "\n",
       "  Currently any kind of e-bike may use a bicycle lane if they are propelled by pedaling only and those propelled by motor power may be fined   \\\n",
       "0  The bylaw should be modified to allow e-bikes ...                                                                                            \n",
       "1  The bylaw should be modified to allow e-bikes ...                                                                                            \n",
       "2     No changes are necessary to the existing bylaw                                                                                            \n",
       "3  Motorized vehicles should generally not be all...                                                                                            \n",
       "4  Motorized vehicles should generally not be all...                                                                                            \n",
       "5  Motorized vehicles should generally not be all...                                                                                            \n",
       "6          An e-bike should never be in a bike lane                                                                                             \n",
       "7  Motorized vehicles should generally not be all...                                                                                            \n",
       "8  The bylaw should be modified to allow e-bikes ...                                                                                            \n",
       "9     No changes are necessary to the existing bylaw                                                                                            \n",
       "\n",
       "  With regards to illegal use of bicycles and e-bikes on sidewalks should the City   \\\n",
       "0  be tolerant of bikes and e-bikes on the walksi...                                  \n",
       "1  maintain the existing programs for signage edu...                                  \n",
       "2  increase signage increase enforcement increase...                                  \n",
       "3              increase signage increase enforcement                                  \n",
       "4  maintain the existing programs for signage edu...                                  \n",
       "5                                 increase education                                  \n",
       "6  increase signage increase enforcement increase...                                  \n",
       "7  maintain the existing programs for signage edu...                                  \n",
       "8  increase signage increase enforcement increase...                                  \n",
       "9  increase signage increase enforcement increase...                                  \n",
       "\n",
       "  Toronto Bylaws consider personal mobility devices (such as electric wheel chairs) to be pedestrians In your opinion should the City  \n",
       "0              Institute a speed limit for sidewalks                                                                                   \n",
       "1                                         Do nothing                                                                                   \n",
       "2                  only wheelchairs at walking speed                                                                                   \n",
       "3  Update the definition of a personal mobility d...                                                                                   \n",
       "4  Update the definition of a personal mobility d...                                                                                   \n",
       "5  Update the definition of a personal mobility d...                                                                                   \n",
       "6  Update the definition of a personal mobility d...                                                                                   \n",
       "7  Update the definition of a personal mobility d...                                                                                   \n",
       "8  Update the definition of a personal mobility d...                                                                                   \n",
       "9  Update the definition of a personal mobility d...                                                                                   \n",
       "\n",
       "[10 rows x 22 columns]"
      ]
     },
     "execution_count": 9,
     "metadata": {},
     "output_type": "execute_result"
    }
   ],
   "source": [
    "# Take a look at available features + responses\n",
    "survey.head(10)"
   ]
  },
  {
   "cell_type": "code",
   "execution_count": 10,
   "metadata": {
    "collapsed": false
   },
   "outputs": [
    {
     "data": {
      "text/plain": [
       "(2238, 22)"
      ]
     },
     "execution_count": 10,
     "metadata": {},
     "output_type": "execute_result"
    }
   ],
   "source": [
    "# dimensions of the dataset, there are 2238 responders to the survey\n",
    "survey.shape"
   ]
  },
  {
   "cell_type": "code",
   "execution_count": 11,
   "metadata": {
    "collapsed": false
   },
   "outputs": [
    {
     "data": {
      "text/plain": [
       "Index([u'Timestamp', u'What age range do you fall in?', u'Sex',\n",
       "       u'How would you describe your level of physical health?',\n",
       "       u'What level of education have you reached?',\n",
       "       u'What is your household income?',\n",
       "       u'Which category best describes your employment?',\n",
       "       u'What Toronto district is your primary address located in?',\n",
       "       u'On average what distance do you travel most days of the week?',\n",
       "       u'On average how long is your commute?',\n",
       "       u'Which transportation option do you end up using most often?',\n",
       "       u'Does your household have access to any of the following private motorized vehicles?',\n",
       "       u'Do you support any of the following statements?',\n",
       "       u'When you use Toronto's Multi-Use Trails do you mostly',\n",
       "       u'Are you aware that the Multi-Use Paths have a speed limit of 20 km/h?',\n",
       "       u'Have you witnessed a collision or conflict on a trail between',\n",
       "       u'Do you think more should be done to manage trail users who do not respect the 20 km/h speed limit?',\n",
       "       u'Currently any kind of e-bike may use a multi-use path if they are propelled by pedaling only and those propelled by motor power may be fined ',\n",
       "       u'When you use Toronto's bicycle lanes do you mostly',\n",
       "       u'Currently any kind of e-bike may use a bicycle lane if they are propelled by pedaling only and those propelled by motor power may be fined ',\n",
       "       u'With regards to illegal use of bicycles and e-bikes on sidewalks should the City ',\n",
       "       u'Toronto Bylaws consider personal mobility devices (such as electric wheel chairs) to be pedestrians In your opinion should the City'],\n",
       "      dtype='object')"
      ]
     },
     "execution_count": 11,
     "metadata": {},
     "output_type": "execute_result"
    }
   ],
   "source": [
    "# view all the column names\n",
    "survey.columns"
   ]
  },
  {
   "cell_type": "code",
   "execution_count": 12,
   "metadata": {
    "collapsed": false
   },
   "outputs": [
    {
     "data": {
      "text/plain": [
       "Yes - a car SUV truck or van                                                                                                                 1146\n",
       "No - I do not have access to a private motorized vehicle                                                                                      522\n",
       "Yes a motorcycle                                                                                                                              162\n",
       "Yes - a pedal assist type e-bike                                                                                                               99\n",
       "Yes - a scooter style e-bike                                                                                                                   85\n",
       "Yes - a car SUV truck or van Yes a motorcycle                                                                                                  25\n",
       "Yes - a car SUV truck or van Yes - a scooter style e-bike                                                                                      22\n",
       "Yes - a car SUV truck or van Yes - a pedal assist type e-bike                                                                                  20\n",
       "Yes a limited speed motorcycle (eg gas powered vespa)                                                                                          17\n",
       "Autoshare                                                                                                                                       9\n",
       "car share                                                                                                                                       4\n",
       "Yes - a gas moped                                                                                                                               4\n",
       "Yes - a car SUV truck or van Yes - a scooter style e-bike Yes - a pedal assist type e-bike                                                      3\n",
       "car and motorcycle                                                                                                                              3\n",
       "Car and motorcycle                                                                                                                              2\n",
       "zipcar                                                                                                                                          2\n",
       "car rental                                                                                                                                      2\n",
       "SUV and motorcycle                                                                                                                              2\n",
       "car & motorcycle                                                                                                                                2\n",
       "Yes - a car SUV truck or van Yes a motorcycle Yes - a scooter style e-bike Yes - a pedal assist type e-bike                                     2\n",
       "Yes - a car SUV truck or van No - I do not have access to a private motorized vehicle                                                           2\n",
       "Yes - a car SUV truck or van Yes a limited speed motorcycle (eg gas powered vespa)                                                              2\n",
       "motorcycle ebike car transit                                                                                                                    1\n",
       "this Q is set up to only allow one answer - we have a car m/c 2 gas-powered scooters (Vespa 200cc not LSM)                                      1\n",
       "the survey is only letting me click one but i have a scooter-style ebike as well                                                                1\n",
       "car van motorcycle                                                                                                                              1\n",
       "considering an e-bike                                                                                                                           1\n",
       "Survey does not allow for multiple answers                                                                                                      1\n",
       "autoshare                                                                                                                                       1\n",
       "zip car                                                                                                                                         1\n",
       "                                                                                                                                             ... \n",
       "Yes A Maxi-Scooter                                                                                                                              1\n",
       "SUV motorcycle limited speed motorcycle                                                                                                         1\n",
       "I can borrow a car from time to time                                                                                                            1\n",
       "yes Autoshare for use of car                                                                                                                    1\n",
       "car/truck/motorcycle/peddle bike                                                                                                                1\n",
       "SUV motorcycle scooter style ebike                                                                                                              1\n",
       "car and motorcycle (buttons don't work)                                                                                                         1\n",
       "i rent Zip cars when I need them                                                                                                                1\n",
       "No - I do not own a private motorized vehicle                                                                                                   1\n",
       "Car-sharing                                                                                                                                     1\n",
       "Yes - a car SUV truck or van I have a 200cc scooter  It's like a vespa but it's not limited speed  Considered a motorcycle by MTO               1\n",
       "can't choose ore than on the form                                                                                                               1\n",
       "bicycle                                                                                                                                         1\n",
       "car sharing                                                                                                                                     1\n",
       "Cars2Go                                                                                                                                         1\n",
       "Carshare                                                                                                                                        1\n",
       "have a Car2Go membership                                                                                                                        1\n",
       "car and motorcycle (survey only allows single value selection)                                                                                  1\n",
       "this does not accept all that apply                                                                                                             1\n",
       "AutoShare vehicles                                                                                                                              1\n",
       "5000W custom high power electric bicycle (non-scooter)                                                                                          1\n",
       "AutoShare                                                                                                                                       1\n",
       "Yes - a car SUV truck or van Yes - a gas moped Yes - a scooter style e-bike Yes - a pedal assist type e-bike                                    1\n",
       "membership in car-sharing service which we have not used to date                                                                                1\n",
       "Please note that this form does not allow the user to choose more than one option here My household has a car and a scooter style e-bike        1\n",
       "AutoShare when needed                                                                                                                           1\n",
       "car motorcycle gas scooter                                                                                                                      1\n",
       "A motor scooter                                                                                                                                 1\n",
       "Car motorcycle and SUV                                                                                                                          1\n",
       "Yes - a truck motorcycle and pedal assist e-bike                                                                                                1\n",
       "Name: Does your household have access to any of the following private motorized vehicles?, dtype: int64"
      ]
     },
     "execution_count": 12,
     "metadata": {},
     "output_type": "execute_result"
    }
   ],
   "source": [
    "# view the inputs of the dependent variable (variable we would like to model)\n",
    "survey[\"Does your household have access to any of the following private motorized vehicles?\"].value_counts()"
   ]
  },
  {
   "cell_type": "markdown",
   "metadata": {},
   "source": [
    "We can see the majority of responders say Yes to having access to a private motorized vehicle. The next majority say No. Other variations of Yes can be grouped together. Also, those who do not answer with Yes but do say car, SUV, etc. can be put in the Yes group also. Lets assign the Yes responders to a value 1 and the No responders to a value 0. "
   ]
  },
  {
   "cell_type": "markdown",
   "metadata": {},
   "source": [
    "# Dependent Variable "
   ]
  },
  {
   "cell_type": "code",
   "execution_count": 13,
   "metadata": {
    "collapsed": true
   },
   "outputs": [],
   "source": [
    "Y = survey[\"Does your household have access to any of the following private motorized vehicles?\"]"
   ]
  },
  {
   "cell_type": "code",
   "execution_count": 14,
   "metadata": {
    "collapsed": false
   },
   "outputs": [
    {
     "data": {
      "text/plain": [
       "40      also motorcycle - not allowing more than one c...\n",
       "44                                   No - only autoshare \n",
       "45                   I can borrow a car from time to time\n",
       "72                                              Autoshare\n",
       "132     The author of this survey is a fuk'g idiot how...\n",
       "143                                             Car share\n",
       "156                               Car van motorcycle bike\n",
       "168     will only let you choose one so i will choose ...\n",
       "306                                             Autoshare\n",
       "316                                         Car and Vespa\n",
       "341                                    AutoShare vehicles\n",
       "372                      car and limited speed motorcycle\n",
       "393                                             autoshare\n",
       "422     Please note that this form does not allow the ...\n",
       "461                                                zipcar\n",
       "499                                           Car-sharing\n",
       "503                     can't choose ore than on the form\n",
       "518                                           car bicycle\n",
       "522            Survey does not allow for multiple answers\n",
       "542                                      car & motorcycle\n",
       "550                                  car truck motorcycle\n",
       "556            SUV Motorcycle (couldn't select multiples)\n",
       "582     Menu does not allow multiple selections despit...\n",
       "591                                             Autoshare\n",
       "599                                    Car and motorcycle\n",
       "646                                    Motorcycle and SUV\n",
       "677     a car motorcycle gas powered vespa-not limited...\n",
       "681     Car and pedal assist e-bike (the form doesn't ...\n",
       "691               car motorcycle limited speed motorcycle\n",
       "695                      car/truck/motorcycle/peddle bike\n",
       "                              ...                        \n",
       "1652           SUV and motorcycle only lets me choose one\n",
       "1654                                   car and motorcycle\n",
       "1655                                              Cars2Go\n",
       "1673              car and motorcycle (buttons don't work)\n",
       "1675                           car motorcycle gas scooter\n",
       "1677                   2 Cars 2 motorcycles and 1 scooter\n",
       "1682                    car and limited speed motorcycle \n",
       "1715    form will only accept one selection! I have a ...\n",
       "1732                            car and pedal assist bike\n",
       "1772                                            car share\n",
       "1787    I have a truck  Used this field to let you kno...\n",
       "1824                                   car van motorcycle\n",
       "1837                     i rent Zip cars when I need them\n",
       "1846                                              zip car\n",
       "1857                                               zipcar\n",
       "1863                                            car share\n",
       "1920                                          car rental \n",
       "1967    No - I do not have access to a private motoriz...\n",
       "1973                               rent or borrow vehicle\n",
       "1985                   pedal assisted scooter type e-bike\n",
       "2018    membership in car-sharing service which we hav...\n",
       "2068                                          car rental \n",
       "2106                                            Autoshare\n",
       "2108                                bicycle and autoshare\n",
       "2133                                    Car2Go membership\n",
       "2151                             have a Car2Go membership\n",
       "2176                                            Autoshare\n",
       "2177                                            Autoshare\n",
       "2197                                          car sharing\n",
       "2222    No - I do not have access to a private motoriz...\n",
       "Name: Does your household have access to any of the following private motorized vehicles?, dtype: object"
      ]
     },
     "execution_count": 14,
     "metadata": {},
     "output_type": "execute_result"
    }
   ],
   "source": [
    "#If response contains word Yes assign a value of 1\n",
    "Y[Y.str.contains(\"Yes\").fillna(False)] = 1\n",
    "\n",
    "# If response contains word No assign a value of 0\n",
    "Y[Y == \"No - I do not have access to a private motorized vehicle\"] = 0\n",
    "Y[Y == \"No - I do not own a private motorized vehicle\"] = 0\n",
    "\n",
    "# What are the remaining value?\n",
    "Y[Y != 0][Y != 1]"
   ]
  },
  {
   "cell_type": "code",
   "execution_count": 15,
   "metadata": {
    "collapsed": false
   },
   "outputs": [
    {
     "data": {
      "text/plain": [
       "1                                                                                                                                            1605\n",
       "0                                                                                                                                             523\n",
       "Autoshare                                                                                                                                       9\n",
       "car share                                                                                                                                       4\n",
       "car and motorcycle                                                                                                                              3\n",
       "SUV and motorcycle                                                                                                                              2\n",
       "car rental                                                                                                                                      2\n",
       "zipcar                                                                                                                                          2\n",
       "Car and motorcycle                                                                                                                              2\n",
       "car & motorcycle                                                                                                                                2\n",
       "Car and Motorcycle                                                                                                                              1\n",
       "zip car                                                                                                                                         1\n",
       "autoshare                                                                                                                                       1\n",
       "bicycle and autoshare                                                                                                                           1\n",
       "this Q is set up to only allow one answer - we have a car m/c 2 gas-powered scooters (Vespa 200cc not LSM)                                      1\n",
       "car motorcycle limited speed motorcycle                                                                                                         1\n",
       "I have access to car share car                                                                                                                  1\n",
       "2 Cars 2 motorcycles and 1 scooter                                                                                                              1\n",
       "form will only accept one selection! I have a car motorcycle limited speed motorcycle                                                           1\n",
       "motorcycle ebike car transit                                                                                                                    1\n",
       "occasional car rental                                                                                                                           1\n",
       "No - I do not have access to a private motorized vehicle car sharing                                                                            1\n",
       "A car and a motorcycle but your survey is flawed and wont let me select both options                                                            1\n",
       "AUTOSHARE                                                                                                                                       1\n",
       "Survey does not allow for multiple answers                                                                                                      1\n",
       "considering an e-bike                                                                                                                           1\n",
       "this should be a checkbox not a radio button                                                                                                    1\n",
       "also motorcycle - not allowing more than one choice                                                                                             1\n",
       "car van motorcycle                                                                                                                              1\n",
       "the survey is only letting me click one but i have a scooter-style ebike as well                                                                1\n",
       "                                                                                                                                             ... \n",
       "No - only autoshare                                                                                                                             1\n",
       "pedal assisted scooter type e-bike                                                                                                              1\n",
       "rent or borrow vehicle                                                                                                                          1\n",
       "Menu does not allow multiple selections despite the title Car and motorcycle                                                                    1\n",
       "car truck motorcycle                                                                                                                            1\n",
       "yes - car and motorcycle                                                                                                                        1\n",
       "SUV motorcycle limited speed motorcycle                                                                                                         1\n",
       "yes Autoshare for use of car                                                                                                                    1\n",
       "Car motorcycle                                                                                                                                  1\n",
       "car and motorcycle (survey only allows single value selection)                                                                                  1\n",
       "Car-sharing                                                                                                                                     1\n",
       "can't choose ore than on the form                                                                                                               1\n",
       "bicycle                                                                                                                                         1\n",
       "car sharing                                                                                                                                     1\n",
       "I have a truck  Used this field to let you know that I cannot select all that apply  This uses radio buttons                                    1\n",
       "Cars2Go                                                                                                                                         1\n",
       "Carshare                                                                                                                                        1\n",
       "car/truck/motorcycle/peddle bike                                                                                                                1\n",
       "have a Car2Go membership                                                                                                                        1\n",
       "this does not accept all that apply                                                                                                             1\n",
       "AutoShare vehicles                                                                                                                              1\n",
       "5000W custom high power electric bicycle (non-scooter)                                                                                          1\n",
       "AutoShare                                                                                                                                       1\n",
       "membership in car-sharing service which we have not used to date                                                                                1\n",
       "Please note that this form does not allow the user to choose more than one option here My household has a car and a scooter style e-bike        1\n",
       "AutoShare when needed                                                                                                                           1\n",
       "car motorcycle gas scooter                                                                                                                      1\n",
       "A motor scooter                                                                                                                                 1\n",
       "Car motorcycle and SUV                                                                                                                          1\n",
       "car and motorcycle (buttons don't work)                                                                                                         1\n",
       "Name: Does your household have access to any of the following private motorized vehicles?, dtype: int64"
      ]
     },
     "execution_count": 15,
     "metadata": {},
     "output_type": "execute_result"
    }
   ],
   "source": [
    "Y.value_counts()"
   ]
  },
  {
   "cell_type": "markdown",
   "metadata": {},
   "source": [
    "Assume enteries with the words: shar, Z(z)ipcar, rent, and borrow can be attributed to people without access to a PMV. "
   ]
  },
  {
   "cell_type": "code",
   "execution_count": 18,
   "metadata": {
    "collapsed": false
   },
   "outputs": [
    {
     "data": {
      "text/plain": [
       "1                                                                                                                                            1605\n",
       "0                                                                                                                                             568\n",
       "car and motorcycle                                                                                                                              3\n",
       "SUV and motorcycle                                                                                                                              2\n",
       "car & motorcycle                                                                                                                                2\n",
       "Car and motorcycle                                                                                                                              2\n",
       "2 Cars 2 motorcycles and 1 scooter                                                                                                              1\n",
       "bike                                                                                                                                            1\n",
       "motorcycle ebike car transit                                                                                                                    1\n",
       "form will only accept one selection! I have a car motorcycle limited speed motorcycle                                                           1\n",
       "car motorcycle limited speed motorcycle                                                                                                         1\n",
       "this Q is set up to only allow one answer - we have a car m/c 2 gas-powered scooters (Vespa 200cc not LSM)                                      1\n",
       "car van motorcycle                                                                                                                              1\n",
       "the survey is only letting me click one but i have a scooter-style ebike as well                                                                1\n",
       "atv sled                                                                                                                                        1\n",
       "Car motorcycle and SUV                                                                                                                          1\n",
       "car and limited speed motorcycle                                                                                                                1\n",
       "SUV Velomobile pedal assist ebike                                                                                                               1\n",
       "SUV and motorcycle only lets me choose one                                                                                                      1\n",
       "Bicycle                                                                                                                                         1\n",
       "A car and a motorcycle but your survey is flawed and wont let me select both options                                                            1\n",
       "car and limited speed motorcycle                                                                                                                1\n",
       "Car and pedal assist e-bike (the form doesn't allow multiple options)                                                                           1\n",
       "Cars and Motorcycles                                                                                                                            1\n",
       "SUV Motorcycle (couldn't select multiples)                                                                                                      1\n",
       "Motorcycle and SUV                                                                                                                              1\n",
       "a car motorcycle gas powered vespa-not limited speed survet wont let me choose all                                                              1\n",
       "Car and Motorcycle                                                                                                                              1\n",
       "will only let you choose one so i will choose scooter style ebike but i would have checked off a car as well                                    1\n",
       "The author of this survey is a fuk'g idiot how do i answer if i have more than one of these?                                                    1\n",
       "                                                                                                                                             ... \n",
       "car truck motorcycle                                                                                                                            1\n",
       "considering an e-bike                                                                                                                           1\n",
       "Menu does not allow multiple selections despite the title Car and motorcycle                                                                    1\n",
       "pedal assisted scooter type e-bike                                                                                                              1\n",
       "I can't choose all that apply  Car e-bike and pedal bike                                                                                        1\n",
       "A car and a scooter style ebike - this only allowed me one selection                                                                            1\n",
       "Car Motorcycle                                                                                                                                  1\n",
       "car bicycle                                                                                                                                     1\n",
       "both truck and many motorcycles and motorscooters all gas                                                                                       1\n",
       "motorcycle and car you set up this survey wrong so I cant choose two options                                                                    1\n",
       "Car suv motorcycle                                                                                                                              1\n",
       "Car and Vespa                                                                                                                                   1\n",
       "SUV motorcycle limited speed motorcycle                                                                                                         1\n",
       "car and motorcycle (survey only allows single value selection)                                                                                  1\n",
       "A motor scooter                                                                                                                                 1\n",
       "car motorcycle gas scooter                                                                                                                      1\n",
       "Please note that this form does not allow the user to choose more than one option here My household has a car and a scooter style e-bike        1\n",
       "5000W custom high power electric bicycle (non-scooter)                                                                                          1\n",
       "this does not accept all that apply                                                                                                             1\n",
       "car/truck/motorcycle/peddle bike                                                                                                                1\n",
       "I have a truck  Used this field to let you know that I cannot select all that apply  This uses radio buttons                                    1\n",
       "bicycle                                                                                                                                         1\n",
       "can't choose ore than on the form                                                                                                               1\n",
       "Car motorcycle                                                                                                                                  1\n",
       "car and motorcycle (buttons don't work)                                                                                                         1\n",
       "SUV motorcycle scooter style ebike                                                                                                              1\n",
       "car and pedal assist bike                                                                                                                       1\n",
       "also motorcycle - not allowing more than one choice                                                                                             1\n",
       "this should be a checkbox not a radio button                                                                                                    1\n",
       "Survey does not allow for multiple answers                                                                                                      1\n",
       "Name: Does your household have access to any of the following private motorized vehicles?, dtype: int64"
      ]
     },
     "execution_count": 18,
     "metadata": {},
     "output_type": "execute_result"
    }
   ],
   "source": [
    "# Zipcar\n",
    "Y[Y.str.contains(\"Zipcar\", False) | Y.str.contains(\"zip car\", False)] = 0\n",
    "\n",
    "# Car2Go\n",
    "Y[Y.str.contains(\"2Go\", False).fillna(False)] = 0\n",
    "\n",
    "# Car rental\n",
    "Y[Y.str.contains(\"rent\", False).fillna(False)] = 0\n",
    "\n",
    "# Car sharing\n",
    "Y[Y.str.contains(\"shar\", False).fillna(False)] = 0\n",
    "\n",
    "# Car borrowing\n",
    "Y[Y.str.contains(\"borrow\", False).fillna(False)] = 0\n",
    "\n",
    "Y.value_counts()"
   ]
  },
  {
   "cell_type": "markdown",
   "metadata": {},
   "source": [
    "The remaining entereies look like they can be attributed to people with a PMV and can be assigned a value of 1"
   ]
  },
  {
   "cell_type": "code",
   "execution_count": 19,
   "metadata": {
    "collapsed": false
   },
   "outputs": [
    {
     "data": {
      "text/plain": [
       "1    1670\n",
       "0     568\n",
       "Name: Does your household have access to any of the following private motorized vehicles?, dtype: int64"
      ]
     },
     "execution_count": 19,
     "metadata": {},
     "output_type": "execute_result"
    }
   ],
   "source": [
    "#remaining enteries assigned to a value of 1\n",
    "Y[(Y != 0) & (Y != 1)] = 1\n",
    "Y.value_counts()"
   ]
  },
  {
   "cell_type": "markdown",
   "metadata": {},
   "source": [
    "Predictor Variables "
   ]
  },
  {
   "cell_type": "markdown",
   "metadata": {},
   "source": [
    "Timestamp"
   ]
  },
  {
   "cell_type": "markdown",
   "metadata": {},
   "source": [
    "Time stamp information can be deleted as it will contribute to our model "
   ]
  },
  {
   "cell_type": "code",
   "execution_count": 20,
   "metadata": {
    "collapsed": true
   },
   "outputs": [],
   "source": [
    "survey.drop(\"Timestamp\", axis = 1, inplace = True)"
   ]
  },
  {
   "cell_type": "markdown",
   "metadata": {},
   "source": [
    "# Age "
   ]
  },
  {
   "cell_type": "code",
   "execution_count": 21,
   "metadata": {
    "collapsed": false
   },
   "outputs": [
    {
     "data": {
      "text/plain": [
       "35 to 49            863\n",
       "18 to 34            789\n",
       "50 to 64            463\n",
       "65 years or more    111\n",
       "17 or younger         8\n",
       "Name: What age range do you fall in?, dtype: int64"
      ]
     },
     "execution_count": 21,
     "metadata": {},
     "output_type": "execute_result"
    }
   ],
   "source": [
    "ageRange = survey[\"What age range do you fall in?\"]\n",
    "ageRange.value_counts()"
   ]
  },
  {
   "cell_type": "code",
   "execution_count": 22,
   "metadata": {
    "collapsed": false
   },
   "outputs": [
    {
     "data": {
      "text/plain": [
       "count         2234\n",
       "unique           5\n",
       "top       35 to 49\n",
       "freq           863\n",
       "Name: What age range do you fall in?, dtype: object"
      ]
     },
     "execution_count": 22,
     "metadata": {},
     "output_type": "execute_result"
    }
   ],
   "source": [
    "ageRange.describe()"
   ]
  },
  {
   "cell_type": "markdown",
   "metadata": {},
   "source": [
    "4 missing values. We will assign them equally to both majority age ranges to preserve the distribution. "
   ]
  },
  {
   "cell_type": "code",
   "execution_count": 23,
   "metadata": {
    "collapsed": false
   },
   "outputs": [
    {
     "data": {
      "text/plain": [
       "count         2238\n",
       "unique           5\n",
       "top       35 to 49\n",
       "freq           865\n",
       "Name: What age range do you fall in?, dtype: object"
      ]
     },
     "execution_count": 23,
     "metadata": {},
     "output_type": "execute_result"
    }
   ],
   "source": [
    "# Locate missing values\n",
    "ageRange[ageRange.isnull()]\n",
    "\n",
    "# Fill them in - 18 to 34\n",
    "ageRange.fillna(\"18 to 34\", limit = 2, inplace = True)\n",
    "ageRange.fillna(\"35 to 49\", limit = 2, inplace = True)\n",
    "\n",
    "ageRange.describe()"
   ]
  },
  {
   "cell_type": "markdown",
   "metadata": {},
   "source": [
    "Mapping rules\n",
    "\n",
    "0 - 17 or younger\n",
    "\n",
    "1 - 18 to 34\n",
    "\n",
    "2 - 35 to 49\n",
    "\n",
    "3 - 50 to 64\n",
    "\n",
    "4 - 65 years or more"
   ]
  },
  {
   "cell_type": "code",
   "execution_count": 24,
   "metadata": {
    "collapsed": false
   },
   "outputs": [
    {
     "data": {
      "text/plain": [
       "2    865\n",
       "1    791\n",
       "3    463\n",
       "4    111\n",
       "0      8\n",
       "Name: What age range do you fall in?, dtype: int64"
      ]
     },
     "execution_count": 24,
     "metadata": {},
     "output_type": "execute_result"
    }
   ],
   "source": [
    "# Mapping\n",
    "ageRange[ageRange == \"17 or younger\"] = 0\n",
    "ageRange[ageRange == \"18 to 34\"] = 1\n",
    "ageRange[ageRange == \"35 to 49\"] = 2\n",
    "ageRange[ageRange == \"50 to 64\"] = 3\n",
    "ageRange[ageRange == \"65 years or more\"] = 4\n",
    "\n",
    "ageRange.value_counts()"
   ]
  },
  {
   "cell_type": "markdown",
   "metadata": {},
   "source": [
    "# Sex"
   ]
  },
  {
   "cell_type": "code",
   "execution_count": 26,
   "metadata": {
    "collapsed": false
   },
   "outputs": [
    {
     "data": {
      "text/plain": [
       "Male                       1554\n",
       "Female                      657\n",
       "Genderqueer                   1\n",
       "Irrelevant                    1\n",
       "please                        1\n",
       "Transgender                   1\n",
       "trans                         1\n",
       "Trans Female                  1\n",
       "they                          1\n",
       "unspecified                   1\n",
       "prefer not to disclose        1\n",
       "fifth                         1\n",
       "Name: Sex, dtype: int64"
      ]
     },
     "execution_count": 26,
     "metadata": {},
     "output_type": "execute_result"
    }
   ],
   "source": [
    "gender = survey[\"Sex\"]\n",
    "gender.value_counts()"
   ]
  },
  {
   "cell_type": "code",
   "execution_count": 27,
   "metadata": {
    "collapsed": false
   },
   "outputs": [
    {
     "data": {
      "text/plain": [
       "count     2221\n",
       "unique      12\n",
       "top       Male\n",
       "freq      1554\n",
       "Name: Sex, dtype: object"
      ]
     },
     "execution_count": 27,
     "metadata": {},
     "output_type": "execute_result"
    }
   ],
   "source": [
    "gender.describe()"
   ]
  },
  {
   "cell_type": "markdown",
   "metadata": {},
   "source": [
    "17 missing values. Assign 12 to male and 5 to female in line with the distribution of genders"
   ]
  },
  {
   "cell_type": "code",
   "execution_count": 28,
   "metadata": {
    "collapsed": false
   },
   "outputs": [
    {
     "data": {
      "text/plain": [
       "count     2238\n",
       "unique      12\n",
       "top       Male\n",
       "freq      1566\n",
       "Name: Sex, dtype: object"
      ]
     },
     "execution_count": 28,
     "metadata": {},
     "output_type": "execute_result"
    }
   ],
   "source": [
    "# fill in missing values\n",
    "gender.fillna(\"Male\", limit = 12, inplace = True)\n",
    "gender.fillna(\"Female\", limit = 5, inplace = True)\n",
    "gender.describe()"
   ]
  },
  {
   "cell_type": "code",
   "execution_count": 29,
   "metadata": {
    "collapsed": false
   },
   "outputs": [
    {
     "data": {
      "text/plain": [
       "Male      1566\n",
       "Female     662\n",
       "Other       10\n",
       "Name: Sex, dtype: int64"
      ]
     },
     "execution_count": 29,
     "metadata": {},
     "output_type": "execute_result"
    }
   ],
   "source": [
    "# Group all other genders into their own \"Other\" category\n",
    "gender[(gender != \"Male\") & (gender != \"Female\")] = \"Other\"\n",
    "gender.value_counts()"
   ]
  },
  {
   "cell_type": "code",
   "execution_count": 62,
   "metadata": {
    "collapsed": false
   },
   "outputs": [
    {
     "data": {
      "text/plain": [
       "0    1566\n",
       "1     662\n",
       "2      10\n",
       "Name: Sex, dtype: int64"
      ]
     },
     "execution_count": 62,
     "metadata": {},
     "output_type": "execute_result"
    }
   ],
   "source": [
    "gender[gender == \"Male\"] = 0\n",
    "gender[gender == \"Female\"] = 1\n",
    "gender[gender == \"Other\"] = 2\n",
    "\n",
    "gender.value_counts()"
   ]
  },
  {
   "cell_type": "markdown",
   "metadata": {},
   "source": [
    "# Physical Health"
   ]
  },
  {
   "cell_type": "code",
   "execution_count": 30,
   "metadata": {
    "collapsed": false
   },
   "outputs": [
    {
     "data": {
      "text/plain": [
       "Very good                                    891\n",
       "Good                                         667\n",
       "Excellent                                    411\n",
       "Fairly good                                  210\n",
       "Poor                                          41\n",
       "healing fractured heel                         1\n",
       "Disabled                                       1\n",
       "need knee replacement                          1\n",
       "In poor shape but active & improving           1\n",
       "healthy but with arthritis mobilty issues      1\n",
       "Back Injury                                    1\n",
       "Obese diabetic but trying to be healthy        1\n",
       "Name: How would you describe your level of physical health?, dtype: int64"
      ]
     },
     "execution_count": 30,
     "metadata": {},
     "output_type": "execute_result"
    }
   ],
   "source": [
    "physical_health = survey[\"How would you describe your level of physical health?\"]\n",
    "physical_health.value_counts()"
   ]
  },
  {
   "cell_type": "markdown",
   "metadata": {},
   "source": [
    "We will create a new group called Disabled. Groups will be Very good, good, excellend, fairly good, poor and disabled"
   ]
  },
  {
   "cell_type": "code",
   "execution_count": 31,
   "metadata": {
    "collapsed": false
   },
   "outputs": [
    {
     "data": {
      "text/plain": [
       "count          2227\n",
       "unique           12\n",
       "top       Very good\n",
       "freq            891\n",
       "Name: How would you describe your level of physical health?, dtype: object"
      ]
     },
     "execution_count": 31,
     "metadata": {},
     "output_type": "execute_result"
    }
   ],
   "source": [
    "physical_health.describe()"
   ]
  },
  {
   "cell_type": "markdown",
   "metadata": {},
   "source": [
    "11 missing values. Assign 4 to very good, 3 to good, 2 to excellent, 2 to fairly good."
   ]
  },
  {
   "cell_type": "code",
   "execution_count": 32,
   "metadata": {
    "collapsed": true
   },
   "outputs": [],
   "source": [
    "physical_health.fillna(\"Very good\", limit = 4, inplace = True)\n",
    "physical_health.fillna(\"Good\", limit = 3, inplace = True)\n",
    "physical_health.fillna(\"Excellent\", limit = 2, inplace = True)\n",
    "physical_health.fillna(\"Fairly good\", limit = 2, inplace = True)"
   ]
  },
  {
   "cell_type": "code",
   "execution_count": 33,
   "metadata": {
    "collapsed": false
   },
   "outputs": [
    {
     "data": {
      "text/plain": [
       "count          2238\n",
       "unique           12\n",
       "top       Very good\n",
       "freq            895\n",
       "Name: How would you describe your level of physical health?, dtype: object"
      ]
     },
     "execution_count": 33,
     "metadata": {},
     "output_type": "execute_result"
    }
   ],
   "source": [
    "physical_health.describe()"
   ]
  },
  {
   "cell_type": "code",
   "execution_count": 35,
   "metadata": {
    "collapsed": false
   },
   "outputs": [
    {
     "data": {
      "text/plain": [
       "Very good                                    895\n",
       "Good                                         670\n",
       "Excellent                                    413\n",
       "Fairly good                                  212\n",
       "Poor                                          41\n",
       "healing fractured heel                         1\n",
       "Disabled                                       1\n",
       "need knee replacement                          1\n",
       "In poor shape but active & improving           1\n",
       "healthy but with arthritis mobilty issues      1\n",
       "Back Injury                                    1\n",
       "Obese diabetic but trying to be healthy        1\n",
       "Name: How would you describe your level of physical health?, dtype: int64"
      ]
     },
     "execution_count": 35,
     "metadata": {},
     "output_type": "execute_result"
    }
   ],
   "source": [
    "physical_health.value_counts()"
   ]
  },
  {
   "cell_type": "markdown",
   "metadata": {},
   "source": [
    "Assign the 7 remaining categories with 1 response to a group called Disabled"
   ]
  },
  {
   "cell_type": "code",
   "execution_count": 36,
   "metadata": {
    "collapsed": false
   },
   "outputs": [
    {
     "data": {
      "text/plain": [
       "Very good    895\n",
       "Good         670\n",
       "Excellent    413\n",
       "Disabled     219\n",
       "Poor          41\n",
       "Name: How would you describe your level of physical health?, dtype: int64"
      ]
     },
     "execution_count": 36,
     "metadata": {},
     "output_type": "execute_result"
    }
   ],
   "source": [
    "physical_health[(physical_health != \"Very good\") & (physical_health != \"Good\") & (physical_health != \"Very good\") & (physical_health != \"Excellent\") & (physical_health != \"Fairy good\") & (physical_health != \"Poor\")]  =  \"Disabled\"\n",
    "physical_health.value_counts()"
   ]
  },
  {
   "cell_type": "markdown",
   "metadata": {},
   "source": [
    "Assign values to each category of health status\n"
   ]
  },
  {
   "cell_type": "code",
   "execution_count": 37,
   "metadata": {
    "collapsed": false
   },
   "outputs": [
    {
     "data": {
      "text/plain": [
       "0    895\n",
       "1    670\n",
       "2    413\n",
       "3    219\n",
       "4     41\n",
       "Name: How would you describe your level of physical health?, dtype: int64"
      ]
     },
     "execution_count": 37,
     "metadata": {},
     "output_type": "execute_result"
    }
   ],
   "source": [
    "physical_health[physical_health == \"Very good\"] = 0\n",
    "physical_health[physical_health == \"Good\"] = 1\n",
    "physical_health[physical_health == \"Excellent\"] = 2\n",
    "physical_health[physical_health == \"Disabled\"] = 3\n",
    "physical_health[physical_health == \"Poor\"] = 4\n",
    "\n",
    "physical_health.value_counts()"
   ]
  },
  {
   "cell_type": "markdown",
   "metadata": {},
   "source": [
    "# Education"
   ]
  },
  {
   "cell_type": "code",
   "execution_count": 127,
   "metadata": {
    "collapsed": false
   },
   "outputs": [
    {
     "data": {
      "text/plain": [
       "University degree                                    895\n",
       "Post graduate                                        591\n",
       "College or trade school diploma                      521\n",
       "High school diploma                                  192\n",
       "Some university                                        2\n",
       "Professional Certifications                            1\n",
       "college degree (not university and not a diploma)      1\n",
       "Grade 9                                                1\n",
       "Graduate                                               1\n",
       "still in school                                        1\n",
       "in HS                                                  1\n",
       "Professional degree                                    1\n",
       "University Student                                     1\n",
       "university                                             1\n",
       "M D                                                    1\n",
       "working towards OSSD                                   1\n",
       "some university                                        1\n",
       "some uni                                               1\n",
       "PhD                                                    1\n",
       "4 years university no degree                           1\n",
       "High school Student                                    1\n",
       "Some University                                        1\n",
       "Law School                                             1\n",
       "Grade 8                                                1\n",
       "Name: What level of education have you reached?, dtype: int64"
      ]
     },
     "execution_count": 127,
     "metadata": {},
     "output_type": "execute_result"
    }
   ],
   "source": [
    "education = survey[\"What level of education have you reached?\"]\n",
    "education.value_counts()"
   ]
  },
  {
   "cell_type": "code",
   "execution_count": 128,
   "metadata": {
    "collapsed": false
   },
   "outputs": [
    {
     "data": {
      "text/plain": [
       "count                  2220\n",
       "unique                   24\n",
       "top       University degree\n",
       "freq                    895\n",
       "Name: What level of education have you reached?, dtype: object"
      ]
     },
     "execution_count": 128,
     "metadata": {},
     "output_type": "execute_result"
    }
   ],
   "source": [
    "education.describe()"
   ]
  },
  {
   "cell_type": "markdown",
   "metadata": {},
   "source": [
    "18 missing values, easily dealt will following distribution. Assign 7 values to University degree, 5 to Post graduate, 4 to College or trade school diploma and 2 to High school diploma"
   ]
  },
  {
   "cell_type": "code",
   "execution_count": 129,
   "metadata": {
    "collapsed": false
   },
   "outputs": [
    {
     "data": {
      "text/plain": [
       "count                  2238\n",
       "unique                   25\n",
       "top       University degree\n",
       "freq                    902\n",
       "Name: What level of education have you reached?, dtype: object"
      ]
     },
     "execution_count": 129,
     "metadata": {},
     "output_type": "execute_result"
    }
   ],
   "source": [
    "education.fillna(\"University degree\", limit = 7, inplace = True)\n",
    "education.fillna(\"Post graduate\", limit = 5, inplace = True)\n",
    "education.fillna(\"College or trade school diploma\", limit = 4, inplace = True)\n",
    "education.fillna(\"High school diploma\", limit = 2, inplace = True)\n",
    "\n",
    "education.describe()"
   ]
  },
  {
   "cell_type": "code",
   "execution_count": 130,
   "metadata": {
    "collapsed": false
   },
   "outputs": [
    {
     "data": {
      "text/plain": [
       "University degree                                    902\n",
       "Post graduate                                        596\n",
       "College or trade school diploma                      525\n",
       "High school diploma                                  192\n",
       "Some university                                        2\n",
       "High school diploma                                    2\n",
       "Professional Certifications                            1\n",
       "college degree (not university and not a diploma)      1\n",
       "Grade 9                                                1\n",
       "Graduate                                               1\n",
       "still in school                                        1\n",
       "in HS                                                  1\n",
       "Professional degree                                    1\n",
       "University Student                                     1\n",
       "some university                                        1\n",
       "M D                                                    1\n",
       "university                                             1\n",
       "working towards OSSD                                   1\n",
       "some uni                                               1\n",
       "PhD                                                    1\n",
       "4 years university no degree                           1\n",
       "High school Student                                    1\n",
       "Some University                                        1\n",
       "Law School                                             1\n",
       "Grade 8                                                1\n",
       "Name: What level of education have you reached?, dtype: int64"
      ]
     },
     "execution_count": 130,
     "metadata": {},
     "output_type": "execute_result"
    }
   ],
   "source": [
    "education.value_counts()"
   ]
  },
  {
   "cell_type": "markdown",
   "metadata": {},
   "source": [
    "Merge the two identical High school diploma"
   ]
  },
  {
   "cell_type": "code",
   "execution_count": 131,
   "metadata": {
    "collapsed": true
   },
   "outputs": [],
   "source": [
    "education[(education.str.contains(\"High school diploma\", False))] = \"High school diploma\""
   ]
  },
  {
   "cell_type": "code",
   "execution_count": 132,
   "metadata": {
    "collapsed": false
   },
   "outputs": [
    {
     "data": {
      "text/plain": [
       "University degree                                    902\n",
       "Post graduate                                        596\n",
       "College or trade school diploma                      525\n",
       "High school diploma                                  194\n",
       "Some university                                        2\n",
       "Professional Certifications                            1\n",
       "M D                                                    1\n",
       "Grade 9                                                1\n",
       "Graduate                                               1\n",
       "still in school                                        1\n",
       "in HS                                                  1\n",
       "Professional degree                                    1\n",
       "University Student                                     1\n",
       "college degree (not university and not a diploma)      1\n",
       "some university                                        1\n",
       "university                                             1\n",
       "working towards OSSD                                   1\n",
       "some uni                                               1\n",
       "PhD                                                    1\n",
       "4 years university no degree                           1\n",
       "High school Student                                    1\n",
       "Some University                                        1\n",
       "Law School                                             1\n",
       "Grade 8                                                1\n",
       "Name: What level of education have you reached?, dtype: int64"
      ]
     },
     "execution_count": 132,
     "metadata": {},
     "output_type": "execute_result"
    }
   ],
   "source": [
    "education.value_counts()"
   ]
  },
  {
   "cell_type": "markdown",
   "metadata": {},
   "source": [
    "Assign enteries with words containing Law, MD, PhD and Professional to Post graduate"
   ]
  },
  {
   "cell_type": "code",
   "execution_count": 133,
   "metadata": {
    "collapsed": true
   },
   "outputs": [],
   "source": [
    "education[(education.str.contains(\"Law\", False)) | (education.str.contains(\"M D\", False)) | (education.str.contains(\"PhD\", False)) |(education.str.contains(\"Professional\", False))] = \"Post graduate\" "
   ]
  },
  {
   "cell_type": "code",
   "execution_count": 134,
   "metadata": {
    "collapsed": false
   },
   "outputs": [
    {
     "data": {
      "text/plain": [
       "University degree                                    902\n",
       "Post graduate                                        601\n",
       "College or trade school diploma                      525\n",
       "High school diploma                                  194\n",
       "Some university                                        2\n",
       "working towards OSSD                                   1\n",
       "University Student                                     1\n",
       "Grade 9                                                1\n",
       "Graduate                                               1\n",
       "still in school                                        1\n",
       "in HS                                                  1\n",
       "university                                             1\n",
       "college degree (not university and not a diploma)      1\n",
       "some university                                        1\n",
       "some uni                                               1\n",
       "4 years university no degree                           1\n",
       "High school Student                                    1\n",
       "Some University                                        1\n",
       "Grade 8                                                1\n",
       "Name: What level of education have you reached?, dtype: int64"
      ]
     },
     "execution_count": 134,
     "metadata": {},
     "output_type": "execute_result"
    }
   ],
   "source": [
    "education.value_counts()"
   ]
  },
  {
   "cell_type": "code",
   "execution_count": 135,
   "metadata": {
    "collapsed": false
   },
   "outputs": [],
   "source": [
    "education[(education.str.contains(\"college degree\", False))] = \"College or trade school diploma\" "
   ]
  },
  {
   "cell_type": "code",
   "execution_count": 136,
   "metadata": {
    "collapsed": false
   },
   "outputs": [
    {
     "data": {
      "text/plain": [
       "University degree                  902\n",
       "Post graduate                      601\n",
       "College or trade school diploma    526\n",
       "High school diploma                194\n",
       "Some university                      2\n",
       "working towards OSSD                 1\n",
       "University Student                   1\n",
       "Grade 9                              1\n",
       "Graduate                             1\n",
       "still in school                      1\n",
       "in HS                                1\n",
       "university                           1\n",
       "some university                      1\n",
       "some uni                             1\n",
       "4 years university no degree         1\n",
       "High school Student                  1\n",
       "Some University                      1\n",
       "Grade 8                              1\n",
       "Name: What level of education have you reached?, dtype: int64"
      ]
     },
     "execution_count": 136,
     "metadata": {},
     "output_type": "execute_result"
    }
   ],
   "source": [
    "education.value_counts()"
   ]
  },
  {
   "cell_type": "code",
   "execution_count": 137,
   "metadata": {
    "collapsed": true
   },
   "outputs": [],
   "source": [
    "education[(education != \"University degree\") & (education != \"Post graduate\") & (education != \"College or trade school diploma\") & (education != \"High school diploma\")] = \"No educational certificate\""
   ]
  },
  {
   "cell_type": "code",
   "execution_count": 138,
   "metadata": {
    "collapsed": false
   },
   "outputs": [
    {
     "data": {
      "text/plain": [
       "University degree                  902\n",
       "Post graduate                      601\n",
       "College or trade school diploma    526\n",
       "High school diploma                194\n",
       "No educational certificate          15\n",
       "Name: What level of education have you reached?, dtype: int64"
      ]
     },
     "execution_count": 138,
     "metadata": {},
     "output_type": "execute_result"
    }
   ],
   "source": [
    "education.value_counts()"
   ]
  },
  {
   "cell_type": "code",
   "execution_count": 139,
   "metadata": {
    "collapsed": false
   },
   "outputs": [
    {
     "data": {
      "text/plain": [
       "4    902\n",
       "3    601\n",
       "2    526\n",
       "1    194\n",
       "0     15\n",
       "Name: What level of education have you reached?, dtype: int64"
      ]
     },
     "execution_count": 139,
     "metadata": {},
     "output_type": "execute_result"
    }
   ],
   "source": [
    "education[education == \"No educational certificate\"] = 0\n",
    "education[education == \"High school diploma\"] = 1\n",
    "education[education == \"College or trade school diploma\"] = 2\n",
    "education[education == \"Post graduate\"] = 3\n",
    "education[education == \"University degree\"] = 4\n",
    "\n",
    "education.value_counts()"
   ]
  },
  {
   "cell_type": "markdown",
   "metadata": {},
   "source": [
    "# Household Income"
   ]
  },
  {
   "cell_type": "code",
   "execution_count": 53,
   "metadata": {
    "collapsed": false
   },
   "outputs": [
    {
     "data": {
      "text/plain": [
       "$100K+          831\n",
       "$60K to $79K    372\n",
       "$80K to $99K    335\n",
       "$40K to $59K    298\n",
       "$20K to $39K    235\n",
       "Under $20K      107\n",
       "Name: What is your household income?, dtype: int64"
      ]
     },
     "execution_count": 53,
     "metadata": {},
     "output_type": "execute_result"
    }
   ],
   "source": [
    "household_income = survey[\"What is your household income?\"]\n",
    "household_income.value_counts()"
   ]
  },
  {
   "cell_type": "code",
   "execution_count": 54,
   "metadata": {
    "collapsed": false
   },
   "outputs": [
    {
     "data": {
      "text/plain": [
       "count       2178\n",
       "unique         6\n",
       "top       $100K+\n",
       "freq         831\n",
       "Name: What is your household income?, dtype: object"
      ]
     },
     "execution_count": 54,
     "metadata": {},
     "output_type": "execute_result"
    }
   ],
   "source": [
    "household_income.describe()"
   ]
  },
  {
   "cell_type": "markdown",
   "metadata": {},
   "source": [
    "60 missing values. Assign 24 to $100+, 11 to $60K to $79K, 8 to $80K to $99K, 8 to $40K to $59K, 6 to $20K to $39K, 3 to Under $20K "
   ]
  },
  {
   "cell_type": "code",
   "execution_count": 55,
   "metadata": {
    "collapsed": false
   },
   "outputs": [
    {
     "data": {
      "text/plain": [
       "count       2238\n",
       "unique         6\n",
       "top       $100K+\n",
       "freq         855\n",
       "Name: What is your household income?, dtype: object"
      ]
     },
     "execution_count": 55,
     "metadata": {},
     "output_type": "execute_result"
    }
   ],
   "source": [
    "household_income.fillna(\"$100K+\", limit = 24, inplace = True)\n",
    "household_income.fillna(\"$60K to $79K\", limit = 11, inplace = True)\n",
    "household_income.fillna(\"$80K to $99K\", limit = 8, inplace = True)\n",
    "household_income.fillna(\"$40K to $59K\", limit = 8, inplace = True)\n",
    "household_income.fillna(\"$20K to $39K\", limit = 6, inplace = True)\n",
    "household_income.fillna(\"Under $20K\", limit = 3, inplace = True)\n",
    "\n",
    "household_income.describe()"
   ]
  },
  {
   "cell_type": "code",
   "execution_count": 58,
   "metadata": {
    "collapsed": false
   },
   "outputs": [
    {
     "data": {
      "text/plain": [
       "5    855\n",
       "3    383\n",
       "4    343\n",
       "2    306\n",
       "1    241\n",
       "0    110\n",
       "Name: What is your household income?, dtype: int64"
      ]
     },
     "execution_count": 58,
     "metadata": {},
     "output_type": "execute_result"
    }
   ],
   "source": [
    "household_income[household_income == \"Under $20K\"] = 0\n",
    "household_income[household_income == \"$20K to $39K\"] = 1\n",
    "household_income[household_income == \"$40K to $59K\"] = 2\n",
    "household_income[household_income == \"$60K to $79K\"] = 3\n",
    "household_income[household_income == \"$80K to $99K\"] = 4\n",
    "household_income[household_income == \"$100K+\"] = 5\n",
    "\n",
    "household_income.value_counts()"
   ]
  },
  {
   "cell_type": "markdown",
   "metadata": {},
   "source": [
    "# Employment"
   ]
  },
  {
   "cell_type": "code",
   "execution_count": 59,
   "metadata": {
    "collapsed": false
   },
   "outputs": [
    {
     "data": {
      "text/plain": [
       "Full Time                                                                                                                            1405\n",
       "Self Employed                                                                                                                         361\n",
       "Retired                                                                                                                               136\n",
       "Part Time                                                                                                                             121\n",
       "Student                                                                                                                               118\n",
       "Unemployed                                                                                                                             37\n",
       "Home Maker                                                                                                                             17\n",
       "disabled                                                                                                                                2\n",
       "ODSP                                                                                                                                    2\n",
       "part time while I write                                                                                                                 1\n",
       "Free-lance and home maker                                                                                                               1\n",
       "full time casual                                                                                                                        1\n",
       "Extreme full-time                                                                                                                       1\n",
       "DISSABLE                                                                                                                                1\n",
       "I don't understand the rationale for these demographic questions and I'm not sure the privacy statements meets CIMS requirements        1\n",
       "Disability pension                                                                                                                      1\n",
       "ltip disability                                                                                                                         1\n",
       "Contract                                                                                                                                1\n",
       "semi-retired self-employed                                                                                                              1\n",
       "FT Contract                                                                                                                             1\n",
       "Freelance Contractor                                                                                                                    1\n",
       "contract                                                                                                                                1\n",
       "Seasonal Full-Time                                                                                                                      1\n",
       "full time work and student                                                                                                              1\n",
       "DISABLED                                                                                                                                1\n",
       "occasional teacher                                                                                                                      1\n",
       "Full time job 3 days a week own startup rest of time                                                                                    1\n",
       "arts worker - partial full time                                                                                                         1\n",
       "none of your business                                                                                                                   1\n",
       "Free Lance                                                                                                                              1\n",
       "Freelance Artist                                                                                                                        1\n",
       "Student/internship                                                                                                                      1\n",
       "Doctoral Student                                                                                                                        1\n",
       "Name: Which category best describes your employment?, dtype: int64"
      ]
     },
     "execution_count": 59,
     "metadata": {},
     "output_type": "execute_result"
    }
   ],
   "source": [
    "employment = survey['Which category best describes your employment?']\n",
    "employment.value_counts()"
   ]
  },
  {
   "cell_type": "markdown",
   "metadata": {},
   "source": [
    "15 missing values we can add to the Full Time category"
   ]
  },
  {
   "cell_type": "code",
   "execution_count": 60,
   "metadata": {
    "collapsed": false
   },
   "outputs": [
    {
     "data": {
      "text/plain": [
       "count          2238\n",
       "unique           33\n",
       "top       Full Time\n",
       "freq           1420\n",
       "Name: Which category best describes your employment?, dtype: object"
      ]
     },
     "execution_count": 60,
     "metadata": {},
     "output_type": "execute_result"
    }
   ],
   "source": [
    "# Missing values\n",
    "employment.fillna(\"Full Time\", inplace = True)\n",
    "employment.describe()"
   ]
  },
  {
   "cell_type": "code",
   "execution_count": 67,
   "metadata": {
    "collapsed": false
   },
   "outputs": [
    {
     "data": {
      "text/plain": [
       "Full Time                                                                                                                            1420\n",
       "Self Employed                                                                                                                         361\n",
       "Retired                                                                                                                               136\n",
       "Part Time                                                                                                                             121\n",
       "Student                                                                                                                               118\n",
       "Unemployed                                                                                                                             37\n",
       "Home Maker                                                                                                                             17\n",
       "disabled                                                                                                                                2\n",
       "ODSP                                                                                                                                    2\n",
       "part time while I write                                                                                                                 1\n",
       "Free-lance and home maker                                                                                                               1\n",
       "full time casual                                                                                                                        1\n",
       "Extreme full-time                                                                                                                       1\n",
       "DISSABLE                                                                                                                                1\n",
       "I don't understand the rationale for these demographic questions and I'm not sure the privacy statements meets CIMS requirements        1\n",
       "Disability pension                                                                                                                      1\n",
       "ltip disability                                                                                                                         1\n",
       "Contract                                                                                                                                1\n",
       "semi-retired self-employed                                                                                                              1\n",
       "FT Contract                                                                                                                             1\n",
       "Freelance Contractor                                                                                                                    1\n",
       "contract                                                                                                                                1\n",
       "Seasonal Full-Time                                                                                                                      1\n",
       "full time work and student                                                                                                              1\n",
       "DISABLED                                                                                                                                1\n",
       "occasional teacher                                                                                                                      1\n",
       "Full time job 3 days a week own startup rest of time                                                                                    1\n",
       "arts worker - partial full time                                                                                                         1\n",
       "none of your business                                                                                                                   1\n",
       "Free Lance                                                                                                                              1\n",
       "Freelance Artist                                                                                                                        1\n",
       "Student/internship                                                                                                                      1\n",
       "Doctoral Student                                                                                                                        1\n",
       "Name: Which category best describes your employment?, dtype: int64"
      ]
     },
     "execution_count": 67,
     "metadata": {},
     "output_type": "execute_result"
    }
   ],
   "source": [
    "employment.value_counts()"
   ]
  },
  {
   "cell_type": "code",
   "execution_count": 68,
   "metadata": {
    "collapsed": false
   },
   "outputs": [
    {
     "data": {
      "text/plain": [
       "Full Time                                                                                                                            1420\n",
       "Self Employed                                                                                                                         369\n",
       "Retired                                                                                                                               136\n",
       "Part Time                                                                                                                             124\n",
       "Student                                                                                                                               121\n",
       "Unemployed                                                                                                                             37\n",
       "Home Maker                                                                                                                             17\n",
       "Disabled                                                                                                                                8\n",
       "none of your business                                                                                                                   1\n",
       "Full time job 3 days a week own startup rest of time                                                                                    1\n",
       "Seasonal Full-Time                                                                                                                      1\n",
       "I don't understand the rationale for these demographic questions and I'm not sure the privacy statements meets CIMS requirements        1\n",
       "full time casual                                                                                                                        1\n",
       "Extreme full-time                                                                                                                       1\n",
       "Name: Which category best describes your employment?, dtype: int64"
      ]
     },
     "execution_count": 68,
     "metadata": {},
     "output_type": "execute_result"
    }
   ],
   "source": [
    "employment[(employment.str.contains(\"disab\", False) | (employment.str.contains(\"dissab\", False)) | employment.str.contains(\"odsp\", False))] = \"Disabled\"\n",
    "employment[employment.str.contains(\"contract\", False) | employment.str.contains(\"free\", False) | employment.str.contains(\"self\")] = \"Self Employed\"\n",
    "employment[(employment.str.contains(\"student\", False)) & (employment != \"Student\")] = \"Student\"\n",
    "employment[(employment.str.contains(\"occas\", False) | employment.str.contains(\"part\")) & (employment != \"Part Time\")] = \"Part Time\"\n",
    "\n",
    "employment.value_counts()"
   ]
  },
  {
   "cell_type": "code",
   "execution_count": 69,
   "metadata": {
    "collapsed": false
   },
   "outputs": [
    {
     "data": {
      "text/plain": [
       "Full Time        1424\n",
       "Self Employed     369\n",
       "Retired           136\n",
       "Part Time         124\n",
       "Student           121\n",
       "Unemployed         39\n",
       "Home Maker         17\n",
       "Disabled            8\n",
       "Name: Which category best describes your employment?, dtype: int64"
      ]
     },
     "execution_count": 69,
     "metadata": {},
     "output_type": "execute_result"
    }
   ],
   "source": [
    "employment[employment.str.contains(\"full\", False) & (employment != \"Full Time\")] = \"Full Time\"\n",
    "employment[(employment != \"Full Time\") & (employment != \"Part Time\") & (employment != \"Self Employed\") & (employment != \"Retired\") & (employment != \"Student\") & (employment != \"Home Maker\") & (employment != \"Disabled\") & (employment != \"Unemployed\")] = \"Unemployed\"\n",
    "employment.value_counts()"
   ]
  },
  {
   "cell_type": "code",
   "execution_count": 70,
   "metadata": {
    "collapsed": false
   },
   "outputs": [
    {
     "data": {
      "text/plain": [
       "7    1424\n",
       "6     369\n",
       "2     136\n",
       "5     124\n",
       "4     121\n",
       "1      39\n",
       "3      17\n",
       "0       8\n",
       "Name: Which category best describes your employment?, dtype: int64"
      ]
     },
     "execution_count": 70,
     "metadata": {},
     "output_type": "execute_result"
    }
   ],
   "source": [
    "employment[employment == \"Disabled\"] = 0\n",
    "employment[employment == \"Unemployed\"] = 1\n",
    "employment[employment == \"Retired\"] = 2\n",
    "employment[employment == \"Home Maker\"] = 3\n",
    "employment[employment == \"Student\"] = 4\n",
    "employment[employment == \"Part Time\"] = 5\n",
    "employment[employment == \"Self Employed\"] = 6\n",
    "employment[employment == \"Full Time\"] = 7\n",
    "\n",
    "employment.value_counts()"
   ]
  },
  {
   "cell_type": "markdown",
   "metadata": {},
   "source": [
    "# Commute Distance"
   ]
  },
  {
   "cell_type": "code",
   "execution_count": 122,
   "metadata": {
    "collapsed": false
   },
   "outputs": [
    {
     "data": {
      "text/plain": [
       "5 - 10 km     847\n",
       "10 - 20 km    653\n",
       "Over 35 km    293\n",
       "20 -35 km     248\n",
       "Under 2 km    196\n",
       "Name: On average what distance do you travel most days of the week?, dtype: int64"
      ]
     },
     "execution_count": 122,
     "metadata": {},
     "output_type": "execute_result"
    }
   ],
   "source": [
    "commute_distance = survey[\"On average what distance do you travel most days of the week?\"]\n",
    "commute_distance.value_counts()"
   ]
  },
  {
   "cell_type": "code",
   "execution_count": 123,
   "metadata": {
    "collapsed": false
   },
   "outputs": [
    {
     "data": {
      "text/plain": [
       "count          2237\n",
       "unique            5\n",
       "top       5 - 10 km\n",
       "freq            847\n",
       "Name: On average what distance do you travel most days of the week?, dtype: object"
      ]
     },
     "execution_count": 123,
     "metadata": {},
     "output_type": "execute_result"
    }
   ],
   "source": [
    "commute_distance.describe()"
   ]
  },
  {
   "cell_type": "code",
   "execution_count": 124,
   "metadata": {
    "collapsed": false
   },
   "outputs": [
    {
     "data": {
      "text/plain": [
       "count          2238\n",
       "unique            5\n",
       "top       5 - 10 km\n",
       "freq            848\n",
       "Name: On average what distance do you travel most days of the week?, dtype: object"
      ]
     },
     "execution_count": 124,
     "metadata": {},
     "output_type": "execute_result"
    }
   ],
   "source": [
    "# Fill missing value with majority\n",
    "commute_distance.fillna(\"5 - 10 km\", inplace = True)\n",
    "commute_distance.describe()"
   ]
  },
  {
   "cell_type": "code",
   "execution_count": 125,
   "metadata": {
    "collapsed": false
   },
   "outputs": [
    {
     "data": {
      "text/plain": [
       "1    848\n",
       "2    653\n",
       "4    293\n",
       "3    248\n",
       "0    196\n",
       "Name: On average what distance do you travel most days of the week?, dtype: int64"
      ]
     },
     "execution_count": 125,
     "metadata": {},
     "output_type": "execute_result"
    }
   ],
   "source": [
    "commute_distance[commute_distance == \"Under 2 km\"] = 0\n",
    "commute_distance[commute_distance == \"5 - 10 km\"] = 1\n",
    "commute_distance[commute_distance == \"10 - 20 km\"] = 2\n",
    "commute_distance[commute_distance == \"20 -35 km\"] = 3\n",
    "commute_distance[commute_distance == \"Over 35 km\"] = 4\n",
    "\n",
    "commute_distance.value_counts()"
   ]
  },
  {
   "cell_type": "markdown",
   "metadata": {},
   "source": [
    "# Commute Length"
   ]
  },
  {
   "cell_type": "code",
   "execution_count": 117,
   "metadata": {
    "collapsed": false
   },
   "outputs": [
    {
     "data": {
      "text/plain": [
       "16 - 29 minutes         782\n",
       "30 - 44 minutes         565\n",
       "15 minutes or less      375\n",
       "45 minutes - 1 hour     246\n",
       "I do not commute        167\n",
       "over 1 hour each way    102\n",
       "Name: On average how long is your commute?, dtype: int64"
      ]
     },
     "execution_count": 117,
     "metadata": {},
     "output_type": "execute_result"
    }
   ],
   "source": [
    "commuteLength = survey[\"On average how long is your commute?\"]\n",
    "commuteLength.value_counts()"
   ]
  },
  {
   "cell_type": "code",
   "execution_count": 118,
   "metadata": {
    "collapsed": false
   },
   "outputs": [
    {
     "data": {
      "text/plain": [
       "count                2237\n",
       "unique                  6\n",
       "top       16 - 29 minutes\n",
       "freq                  782\n",
       "Name: On average how long is your commute?, dtype: object"
      ]
     },
     "execution_count": 118,
     "metadata": {},
     "output_type": "execute_result"
    }
   ],
   "source": [
    "commuteLength.describe()"
   ]
  },
  {
   "cell_type": "code",
   "execution_count": 119,
   "metadata": {
    "collapsed": false
   },
   "outputs": [
    {
     "data": {
      "text/plain": [
       "count                2238\n",
       "unique                  6\n",
       "top       16 - 29 minutes\n",
       "freq                  783\n",
       "Name: On average how long is your commute?, dtype: object"
      ]
     },
     "execution_count": 119,
     "metadata": {},
     "output_type": "execute_result"
    }
   ],
   "source": [
    "commuteLength.fillna(\"16 - 29 minutes\", inplace = True)\n",
    "commuteLength.describe()"
   ]
  },
  {
   "cell_type": "code",
   "execution_count": 120,
   "metadata": {
    "collapsed": false
   },
   "outputs": [
    {
     "data": {
      "text/plain": [
       "2    783\n",
       "3    565\n",
       "1    375\n",
       "4    246\n",
       "0    167\n",
       "5    102\n",
       "Name: On average how long is your commute?, dtype: int64"
      ]
     },
     "execution_count": 120,
     "metadata": {},
     "output_type": "execute_result"
    }
   ],
   "source": [
    "#mapping\n",
    "commuteLength[commuteLength == \"I do not commute\"] = 0\n",
    "commuteLength[commuteLength == \"15 minutes or less\"] = 1\n",
    "commuteLength[commuteLength == \"16 - 29 minutes\"] = 2\n",
    "commuteLength[commuteLength == \"30 - 44 minutes\"] = 3\n",
    "commuteLength[commuteLength == \"45 minutes - 1 hour\"] = 4\n",
    "commuteLength[commuteLength == \"over 1 hour each way\"] = 5\n",
    "\n",
    "commuteLength.value_counts()"
   ]
  },
  {
   "cell_type": "code",
   "execution_count": 79,
   "metadata": {
    "collapsed": false
   },
   "outputs": [
    {
     "data": {
      "text/plain": [
       "bicycle                                                                                       777\n",
       "private motor vehicle (car truck SUV van motorcycle gas limited speed motorcycle or moped)    631\n",
       "transit                                                                                       364\n",
       "walking                                                                                       247\n",
       "scooter type e-bike                                                                           105\n",
       "pedal assist type e-bike                                                                       86\n",
       "personal mobility device (electric wheelchair)                                                  2\n",
       "Motor scooter                                                                                   1\n",
       "Motorcycle                                                                                      1\n",
       "I cover Ontario for work so Car but in TO- TTC and Bike are easier options                      1\n",
       "Hybrid Car                                                                                      1\n",
       "Car in winter bicycle in summer                                                                 1\n",
       "bike in summer transit in winter                                                                1\n",
       "CONDO SHUTTLE BUS                                                                               1\n",
       "all                                                                                             1\n",
       "Motorcycle depends on weather                                                                   1\n",
       "combination of transit and walking                                                              1\n",
       "depends on the season three seasons bike one transit                                            1\n",
       "transit or bicycle (weather dependent)                                                          1\n",
       "Cycling/transit highly seasonal 50:50                                                           1\n",
       "depends on season Transit in winter e-bike in summer                                            1\n",
       "5000W custom high power electric bicycle (non-scooter)                                          1\n",
       "skateboard/longboard                                                                            1\n",
       "Winter TTC Other seasons Bike                                                                   1\n",
       "taxi                                                                                            1\n",
       "electric assist bicycle                                                                         1\n",
       "running                                                                                         1\n",
       "private motor vehicle                                                                           1\n",
       "transit & bicycle                                                                               1\n",
       "pedal assisted scooter type e-bike                                                              1\n",
       "rollerblades                                                                                    1\n",
       "transit in winter otherwise e-bike                                                              1\n",
       "bike in good weather                                                                            1\n",
       "Name: Which transportation option do you end up using most often?, dtype: int64"
      ]
     },
     "execution_count": 79,
     "metadata": {},
     "output_type": "execute_result"
    }
   ],
   "source": [
    "transportation_option = survey[\"Which transportation option do you end up using most often?\"]\n",
    "transportation_option.value_counts()"
   ]
  },
  {
   "cell_type": "code",
   "execution_count": 80,
   "metadata": {
    "collapsed": false
   },
   "outputs": [
    {
     "data": {
      "text/plain": [
       "count        2238\n",
       "unique         33\n",
       "top       bicycle\n",
       "freq          777\n",
       "Name: Which transportation option do you end up using most often?, dtype: object"
      ]
     },
     "execution_count": 80,
     "metadata": {},
     "output_type": "execute_result"
    }
   ],
   "source": [
    "transportation_option.describe()"
   ]
  },
  {
   "cell_type": "code",
   "execution_count": 90,
   "metadata": {
    "collapsed": false
   },
   "outputs": [
    {
     "data": {
      "text/plain": [
       "bicycle                                                                                       779\n",
       "private motor vehicle (car truck SUV van motorcycle gas limited speed motorcycle or moped)    638\n",
       "transit                                                                                       375\n",
       "walking                                                                                       250\n",
       "scooter type e-bike                                                                           110\n",
       "pedal assist type e-bike                                                                       86\n",
       "Name: Which transportation option do you end up using most often?, dtype: int64"
      ]
     },
     "execution_count": 90,
     "metadata": {},
     "output_type": "execute_result"
    }
   ],
   "source": [
    "transportation_option[(transportation_option.str.contains(\"motor\", False)) | (transportation_option.str.contains(\"Motor\", False)) | (transportation_option.str.contains(\"car\", False))] = \"private motor vehicle (car truck SUV van motorcycle gas limited speed motorcycle or moped)\"\n",
    "transportation_option[(transportation_option.str.contains(\"transit\", False)) | (transportation_option.str.contains(\"taxi\", False)) | (transportation_option.str.contains(\"SHUTTLE\", False)) | (transportation_option.str.contains(\"all\"))] = \"transit\"\n",
    "transportation_option[(transportation_option.str.contains(\"electric\", False)) | transportation_option.str.contains(\"scooter\", False)] = \"scooter type e-bike\"\n",
    "transportation_option[(transportation_option.str.contains(\"roller\", False)) | (transportation_option.str.contains(\"running\", False)) | (transportation_option.str.contains(\"skate\", False))] = \"walking\"\n",
    "transportation_option[(transportation_option.str.contains(\"seasons\", False)) | (transportation_option.str.contains(\"weather\", False))] = \"bicycle\" \n",
    "transportation_option.value_counts()"
   ]
  },
  {
   "cell_type": "code",
   "execution_count": 92,
   "metadata": {
    "collapsed": false
   },
   "outputs": [
    {
     "data": {
      "text/plain": [
       "0    779\n",
       "1    638\n",
       "2    375\n",
       "3    250\n",
       "4    110\n",
       "5     86\n",
       "Name: Which transportation option do you end up using most often?, dtype: int64"
      ]
     },
     "execution_count": 92,
     "metadata": {},
     "output_type": "execute_result"
    }
   ],
   "source": [
    "transportation_option[transportation_option == \"bicycle\"] = 0\n",
    "transportation_option[transportation_option == \"private motor vehicle (car truck SUV van motorcycle gas limited speed motorcycle or moped)\"] = 1\n",
    "transportation_option[transportation_option == \"transit\"] = 2\n",
    "transportation_option[transportation_option == \"walking\"] = 3\n",
    "transportation_option[transportation_option == \"scooter type e-bike\"] = 4\n",
    "transportation_option[transportation_option == \"pedal assist type e-bike\"] = 5\n",
    "\n",
    "transportation_option.value_counts()"
   ]
  },
  {
   "cell_type": "code",
   "execution_count": null,
   "metadata": {
    "collapsed": true
   },
   "outputs": [],
   "source": []
  },
  {
   "cell_type": "markdown",
   "metadata": {},
   "source": [
    "# Multi-use path speed limit awareness"
   ]
  },
  {
   "cell_type": "code",
   "execution_count": 93,
   "metadata": {
    "collapsed": false
   },
   "outputs": [
    {
     "data": {
      "text/plain": [
       "No     1131\n",
       "Yes    1107\n",
       "Name: Are you aware that the Multi-Use Paths have a speed limit of 20 km/h?, dtype: int64"
      ]
     },
     "execution_count": 93,
     "metadata": {},
     "output_type": "execute_result"
    }
   ],
   "source": [
    "multipath_speed_aware = survey[\"Are you aware that the Multi-Use Paths have a speed limit of 20 km/h?\"]\n",
    "multipath_speed_aware.value_counts()"
   ]
  },
  {
   "cell_type": "code",
   "execution_count": 94,
   "metadata": {
    "collapsed": false
   },
   "outputs": [
    {
     "data": {
      "text/plain": [
       "count     2238\n",
       "unique       2\n",
       "top         No\n",
       "freq      1131\n",
       "Name: Are you aware that the Multi-Use Paths have a speed limit of 20 km/h?, dtype: object"
      ]
     },
     "execution_count": 94,
     "metadata": {},
     "output_type": "execute_result"
    }
   ],
   "source": [
    "multipath_speed_aware.describe()"
   ]
  },
  {
   "cell_type": "code",
   "execution_count": 95,
   "metadata": {
    "collapsed": false
   },
   "outputs": [
    {
     "data": {
      "text/plain": [
       "0    1131\n",
       "1    1107\n",
       "Name: Are you aware that the Multi-Use Paths have a speed limit of 20 km/h?, dtype: int64"
      ]
     },
     "execution_count": 95,
     "metadata": {},
     "output_type": "execute_result"
    }
   ],
   "source": [
    "multipath_speed_aware[multipath_speed_aware == \"Yes\"] = 1\n",
    "multipath_speed_aware[multipath_speed_aware == \"No\"] = 0\n",
    "\n",
    "multipath_speed_aware.value_counts()"
   ]
  },
  {
   "cell_type": "markdown",
   "metadata": {},
   "source": [
    "# Witness conflict or collision "
   ]
  },
  {
   "cell_type": "code",
   "execution_count": 97,
   "metadata": {
    "collapsed": false
   },
   "outputs": [
    {
     "data": {
      "text/plain": [
       "I am not aware of any conflicts on the trails                                                                                                                                                                                                                                                              847\n",
       "a conflict between cyclists and pedestrians                                                                                                                                                                                                                                                                138\n",
       "a conflict relating to a dog(s)                                                                                                                                                                                                                                                                             80\n",
       "a conflict between an e-biker and a pedestrian a conflict between e-biker and a cyclist                                                                                                                                                                                                                     80\n",
       "a conflict between e-biker and a cyclist                                                                                                                                                                                                                                                                    54\n",
       "a conflict relating to a dog(s) a conflict between cyclists and pedestrians                                                                                                                                                                                                                                 51\n",
       "pedestrians and/or runners a conflict relating to a dog(s) a conflict relating to an in-line skater a conflict between cyclists and pedestrians a conflict between two cyclists a conflict between an e-biker and a pedestrian a conflict between e-biker and a cyclist                                     33\n",
       "a conflict relating to a dog(s) a conflict between cyclists and pedestrians a conflict between an e-biker and a pedestrian a conflict between e-biker and a cyclist                                                                                                                                         31\n",
       "a conflict between an e-biker and a pedestrian                                                                                                                                                                                                                                                              31\n",
       "a conflict between cyclists and pedestrians a conflict between an e-biker and a pedestrian a conflict between e-biker and a cyclist                                                                                                                                                                         30\n",
       "a conflict relating to a dog(s) a conflict between an e-biker and a pedestrian a conflict between e-biker and a cyclist                                                                                                                                                                                     29\n",
       "a conflict between two cyclists                                                                                                                                                                                                                                                                             27\n",
       "a conflict between cyclists and pedestrians a conflict between an e-biker and a pedestrian                                                                                                                                                                                                                  24\n",
       "a conflict between an e-biker and a pedestrian a conflict between e-biker and a cyclist a conflict between two e-bikers                                                                                                                                                                                     23\n",
       "a conflict relating to an in-line skater a conflict between cyclists and pedestrians                                                                                                                                                                                                                        22\n",
       "a conflict relating to an in-line skater                                                                                                                                                                                                                                                                    21\n",
       "a conflict relating to a dog(s) a conflict relating to an in-line skater a conflict between cyclists and pedestrians                                                                                                                                                                                        20\n",
       "a conflict between cyclists and pedestrians a conflict between two cyclists                                                                                                                                                                                                                                 20\n",
       "pedestrians and/or runners a conflict relating to a dog(s) a conflict relating to an in-line skater a conflict between cyclists and pedestrians a conflict between two cyclists                                                                                                                             19\n",
       "a conflict between cyclists and pedestrians a conflict between e-biker and a cyclist                                                                                                                                                                                                                        18\n",
       "a conflict relating to a dog(s) a conflict between cyclists and pedestrians a conflict between an e-biker and a pedestrian                                                                                                                                                                                  18\n",
       "a conflict relating to a dog(s) a conflict between cyclists and pedestrians a conflict between e-biker and a cyclist                                                                                                                                                                                        16\n",
       "a conflict relating to a dog(s) a conflict relating to an in-line skater a conflict between cyclists and pedestrians a conflict between an e-biker and a pedestrian a conflict between e-biker and a cyclist                                                                                                16\n",
       "pedestrians and/or runners a conflict relating to a dog(s) a conflict relating to an in-line skater a conflict between cyclists and pedestrians                                                                                                                                                             16\n",
       "pedestrians and/or runners a conflict relating to a dog(s) a conflict relating to an in-line skater a conflict between cyclists and pedestrians a conflict between two cyclists a conflict between an e-biker and a pedestrian a conflict between e-biker and a cyclist a conflict between two e-bikers     15\n",
       "pedestrians and/or runners                                                                                                                                                                                                                                                                                  15\n",
       "a conflict relating to a dog(s) a conflict between cyclists and pedestrians a conflict between two cyclists                                                                                                                                                                                                 15\n",
       "a conflict between cyclists and pedestrians a conflict between two cyclists a conflict between an e-biker and a pedestrian a conflict between e-biker and a cyclist                                                                                                                                         14\n",
       "pedestrians and/or runners a conflict relating to a dog(s) a conflict relating to an in-line skater a conflict between cyclists and pedestrians a conflict between an e-biker and a pedestrian a conflict between e-biker and a cyclist                                                                     14\n",
       "a conflict relating to a dog(s) a conflict relating to an in-line skater                                                                                                                                                                                                                                    13\n",
       "                                                                                                                                                                                                                                                                                                          ... \n",
       "I am sure there are conflicts but I do not travel on these trails enough to have seen one                                                                                                                                                                                                                    1\n",
       "I've seen issues arrise between many of these groups but not 'conflicts'                                                                                                                                                                                                                                     1\n",
       "a conflict relating to a dog(s) a conflict relating to an in-line skater a conflict between e-biker and a cyclist                                                                                                                                                                                            1\n",
       "Can't remember seeing any but that doesn't mean they don't happen                                                                                                                                                                                                                                            1\n",
       "i have not witness but believe there are conflicts                                                                                                                                                                                                                                                           1\n",
       "pedestrians and/or runners a conflict between two cyclists a conflict between an e-biker and a pedestrian a conflict between e-biker and a cyclist a conflict between two e-bikers                                                                                                                           1\n",
       "a conflict between an e-biker and a pedestrian Electric wheelchair and pedestrian                                                                                                                                                                                                                            1\n",
       "pedestrians and/or runners a conflict relating to a dog(s) a conflict between an e-biker and a pedestrian a conflict between e-biker and a cyclist a conflict between two e-bikers                                                                                                                           1\n",
       "I'm sure conflicts occur I have not witnessed any                                                                                                                                                                                                                                                            1\n",
       "a conflict between cyclists and pedestrians a conflict between an e-biker and a pedestrian car and cyclist car and e bike                                                                                                                                                                                    1\n",
       "I have not witnessed a collision                                                                                                                                                                                                                                                                             1\n",
       "pedestrians and/or runners a conflict relating to a dog(s) a conflict relating to an in-line skater a conflict between cyclists and pedestrians most non ebike cyclists violate the 20kph speed limit                                                                                                        1\n",
       "I am not aware of any conflicts on the trails Did NOT witness any                                                                                                                                                                                                                                            1\n",
       "pedestrians and/or runners a conflict relating to a dog(s) a conflict between cyclists and pedestrians a conflict between e-biker and a cyclist                                                                                                                                                              1\n",
       "a conflict between cyclists and pedestrians witnessed many 'almost' accidents                                                                                                                                                                                                                                1\n",
       "a conflict relating to a dog(s) e-scooter v bicycle                                                                                                                                                                                                                                                          1\n",
       "Aware of but never witnessed conflicts                                                                                                                                                                                                                                                                       1\n",
       "Near miss E bike & cyclist                                                                                                                                                                                                                                                                                   1\n",
       "I have not personally witnessed a conflict but I'm aware they exist                                                                                                                                                                                                                                          1\n",
       "a conflict between cyclists and pedestrians I am not aware of any conflicts on the trails                                                                                                                                                                                                                    1\n",
       "pedestrians or runners                                                                                                                                                                                                                                                                                       1\n",
       "I can understand that these conflicts can occur                                                                                                                                                                                                                                                              1\n",
       "e-biker and skater                                                                                                                                                                                                                                                                                           1\n",
       "POLICE RIDING ON SIDEWALKS??                                                                                                                                                                                                                                                                                 1\n",
       "pedestrians and/or runners a conflict relating to an in-line skater a conflict between two cyclists a conflict between an e-biker and a pedestrian a conflict between e-biker and a cyclist                                                                                                                  1\n",
       "I haven't witnessed any conflict                                                                                                                                                                                                                                                                             1\n",
       "pedestrians and/or runners a conflict relating to an in-line skater a conflict between two cyclists                                                                                                                                                                                                          1\n",
       "pedestrians and/or runners a conflict between two cyclists                                                                                                                                                                                                                                                   1\n",
       "a conflict relating to a dog(s) a conflict relating to an in-line skater a conflict between cyclists and pedestrians a conflict between two cyclists a conflict between e-biker and a cyclist a conflict between two e-bikers                                                                                1\n",
       "I am not aware of any conflicts on the trails Pedestrians wandering around on trails with no concept of lanes and taking up whole width with 3 or more people abreast                                                                                                                                        1\n",
       "Name: Have you witnessed a collision or conflict on a trail between, dtype: int64"
      ]
     },
     "execution_count": 97,
     "metadata": {},
     "output_type": "execute_result"
    }
   ],
   "source": [
    "conflict_collision = survey[\"Have you witnessed a collision or conflict on a trail between\"]\n",
    "conflict_collision.value_counts()"
   ]
  },
  {
   "cell_type": "code",
   "execution_count": 103,
   "metadata": {
    "collapsed": false
   },
   "outputs": [
    {
     "data": {
      "text/plain": [
       "count     2238\n",
       "unique      30\n",
       "top        Yes\n",
       "freq      1316\n",
       "Name: Have you witnessed a collision or conflict on a trail between, dtype: object"
      ]
     },
     "execution_count": 103,
     "metadata": {},
     "output_type": "execute_result"
    }
   ],
   "source": [
    "conflict_collision[(conflict_collision.str.contains(\"a conflict\", False))] = \"Yes\"\n",
    "conflict_collision[(conflict_collision.str.contains(\"I am not aware\", False)) | (conflict_collision.str.contains(\"not\", False)) | (conflict_collision.str.contains(\"haven't\", False))] = \"No\"\n",
    "\n",
    "conflict_collision.describe()"
   ]
  },
  {
   "cell_type": "code",
   "execution_count": 104,
   "metadata": {
    "collapsed": false
   },
   "outputs": [
    {
     "data": {
      "text/plain": [
       "Yes                                                                                                                 1316\n",
       "No                                                                                                                   880\n",
       "pedestrians and/or runners                                                                                            15\n",
       "Conflict between common sense and spandex warrior cyclists                                                             1\n",
       "no                                                                                                                     1\n",
       "I'm sure they happen but I can't bring any specific incidents to mind                                                  1\n",
       "Near miss E bike & cyclist                                                                                             1\n",
       "POLICE RIDING ON SIDEWALKS??                                                                                           1\n",
       "e-biker and skater                                                                                                     1\n",
       "I can understand that these conflicts can occur                                                                        1\n",
       "collision with a car turning right into the private club on lakeshore                                                  1\n",
       "Aware of but never witnessed conflicts                                                                                 1\n",
       "Closest near misses I've seen are always between cyclists and runners                                                  1\n",
       "Some cyclists go faster than my ebike                                                                                  1\n",
       "I have seen e-bikes (scooter) run into gates set on the trail                                                          1\n",
       "witnessed a few close calls between e-bikes and pedestrians                                                            1\n",
       "I've seen dogs in conflict                                                                                             1\n",
       "pedestrians or runners                                                                                                 1\n",
       "only close calls                                                                                                       1\n",
       "a cyclist and an inline skater                                                                                         1\n",
       "I AM FROM BRAMPTON                                                                                                     1\n",
       "none                                                                                                                   1\n",
       "I wouldn't call them outright conflicts but there is a lot of miscommunication/people don't behave appropriately       1\n",
       "Motor Vehicle and runner                                                                                               1\n",
       "Between bike and car                                                                                                   1\n",
       "Cars and cyclist who are in the cyclist lane                                                                           1\n",
       "I am aware that conflicts occur but have never witnessed any                                                           1\n",
       "have seen many close calls                                                                                             1\n",
       "Can't remember seeing any but that doesn't mean they don't happen                                                      1\n",
       "NO                                                                                                                     1\n",
       "Name: Have you witnessed a collision or conflict on a trail between, dtype: int64"
      ]
     },
     "execution_count": 104,
     "metadata": {},
     "output_type": "execute_result"
    }
   ],
   "source": [
    "conflict_collision.value_counts()"
   ]
  },
  {
   "cell_type": "code",
   "execution_count": 105,
   "metadata": {
    "collapsed": false
   },
   "outputs": [
    {
     "data": {
      "text/plain": [
       "Yes    1358\n",
       "No      880\n",
       "Name: Have you witnessed a collision or conflict on a trail between, dtype: int64"
      ]
     },
     "execution_count": 105,
     "metadata": {},
     "output_type": "execute_result"
    }
   ],
   "source": [
    "conflict_collision[(conflict_collision != \"Yes\") & (conflict_collision != \"No\")] = \"Yes\"\n",
    "conflict_collision.value_counts()"
   ]
  },
  {
   "cell_type": "code",
   "execution_count": 107,
   "metadata": {
    "collapsed": false
   },
   "outputs": [
    {
     "data": {
      "text/plain": [
       "1    1358\n",
       "0     880\n",
       "Name: Have you witnessed a collision or conflict on a trail between, dtype: int64"
      ]
     },
     "execution_count": 107,
     "metadata": {},
     "output_type": "execute_result"
    }
   ],
   "source": [
    "conflict_collision[conflict_collision == \"Yes\"] = 1\n",
    "conflict_collision[conflict_collision == \"No\"] = 0\n",
    "conflict_collision.value_counts()"
   ]
  },
  {
   "cell_type": "markdown",
   "metadata": {},
   "source": [
    "# Managing trail user speed limit"
   ]
  },
  {
   "cell_type": "code",
   "execution_count": 109,
   "metadata": {
    "collapsed": false
   },
   "outputs": [
    {
     "data": {
      "text/plain": [
       "No - the trails are fine as they are                                                                                                                                                                                                                                                                                                                                                                                                                                                                                             646\n",
       "Yes - more signage Yes - more enforcement (ticketing) Yes - more educational programs                                                                                                                                                                                                                                                                                                                                                                                                                                            355\n",
       "Yes - more enforcement (ticketing)                                                                                                                                                                                                                                                                                                                                                                                                                                                                                               276\n",
       "Yes - more signage                                                                                                                                                                                                                                                                                                                                                                                                                                                                                                               260\n",
       "Yes - more signage Yes - more educational programs                                                                                                                                                                                                                                                                                                                                                                                                                                                                               188\n",
       "Yes - more signage Yes - more enforcement (ticketing)                                                                                                                                                                                                                                                                                                                                                                                                                                                                            161\n",
       "Yes - more educational programs                                                                                                                                                                                                                                                                                                                                                                                                                                                                                                  118\n",
       "Yes - more enforcement (ticketing) Yes - more educational programs                                                                                                                                                                                                                                                                                                                                                                                                                                                                93\n",
       "Yes - more educational programs No - the trails are fine as they are                                                                                                                                                                                                                                                                                                                                                                                                                                                               8\n",
       "Yes - more signage No - the trails are fine as they are                                                                                                                                                                                                                                                                                                                                                                                                                                                                            5\n",
       "Yes - more signage Yes - more educational programs No - the trails are fine as they are                                                                                                                                                                                                                                                                                                                                                                                                                                            2\n",
       "Yes - more enforcement (ticketing) No - the trails are fine as they are                                                                                                                                                                                                                                                                                                                                                                                                                                                            2\n",
       "don't know                                                                                                                                                                                                                                                                                                                                                                                                                                                                                                                         2\n",
       "A campaign to raise awareness that the trails have many uses and courtesy is required                                                                                                                                                                                                                                                                                                                                                                                                                                              1\n",
       "Speed can be regulated according to time and conditions - sometimes speed needs to be moderated but other times there is no need for a speed limit                                                                                                                                                                                                                                                                                                                                                                                 1\n",
       "Yes - more signage Split trails where possible for fast vs slow movement                                                                                                                                                                                                                                                                                                                                                                                                                                                           1\n",
       "Yes - more signage Yes - more enforcement (ticketing) Yes - more educational programs AWARENESS COMMUNICATION                                                                                                                                                                                                                                                                                                                                                                                                                      1\n",
       "Not sure                                                                                                                                                                                                                                                                                                                                                                                                                                                                                                                           1\n",
       "Yes - more enforcement (ticketing) raise the speed limit on trails to 30 km/h and do not allow scooter type e-bikes on them                                                                                                                                                                                                                                                                                                                                                                                                        1\n",
       "Divide the trails into slow and fast lanes                                                                                                                                                                                                                                                                                                                                                                                                                                                                                         1\n",
       "No - the trails are fine as they are There is no way for a cyclist to know what speed they are travelling at there any speed limit is next to useless                                                                                                                                                                                                                                                                                                                                                                              1\n",
       "Yes - more educational programs pedestrians also require education and how to share with cyclists and expect users of all speeds                                                                                                                                                                                                                                                                                                                                                                                                   1\n",
       "ebikes should not be allowed on the trails OR in bike lanes                                                                                                                                                                                                                                                                                                                                                                                                                                                                        1\n",
       "signage to encourage users to walk on the GRASS                                                                                                                                                                                                                                                                                                                                                                                                                                                                                    1\n",
       "Yes - more signage Yes - more enforcement (ticketing) Yes - more educational programs No - the trails are fine as they are                                                                                                                                                                                                                                                                                                                                                                                                         1\n",
       "Yes - more signage Right of way needs to be observed Strollers/families in way of bikes                                                                                                                                                                                                                                                                                                                                                                                                                                            1\n",
       "This speed limit is ridiculous                                                                                                                                                                                                                                                                                                                                                                                                                                                                                                     1\n",
       "Build a complete on-street bike network                                                                                                                                                                                                                                                                                                                                                                                                                                                                                            1\n",
       "20 km/hr is too low There should be a minimum too                                                                                                                                                                                                                                                                                                                                                                                                                                                                                  1\n",
       "No just prevent E-bikes on them                                                                                                                                                                                                                                                                                                                                                                                                                                                                                                    1\n",
       "                                                                                                                                                                                                                                                                                                                                                                                                                                                                                                                                ... \n",
       "alongside the Beaches boardwalk direct pedestrians to use the boardwalk                                                                                                                                                                                                                                                                                                                                                                                                                                                            1\n",
       "make it 60kmh                                                                                                                                                                                                                                                                                                                                                                                                                                                                                                                      1\n",
       "I can't say as I don't use them This should be an answer option                                                                                                                                                                                                                                                                                                                                                                                                                                                                    1\n",
       "walk lane run lane fast lane                                                                                                                                                                                                                                                                                                                                                                                                                                                                                                       1\n",
       "Yes - more signage Yes - more enforcement (ticketing) since bicycles don't have speedometers how will they know if they are respecting the speed limit?                                                                                                                                                                                                                                                                                                                                                                            1\n",
       "No - the trails are fine as they are e-scooters don't belong                                                                                                                                                                                                                                                                                                                                                                                                                                                                       1\n",
       "Havn't been on Toronto's trails                                                                                                                                                                                                                                                                                                                                                                                                                                                                                                    1\n",
       "20 km/h is too slow People will travel at safe speeds for the conditions because nobody likes crashing                                                                                                                                                                                                                                                                                                                                                                                                                             1\n",
       "ebike and cyclist only paths                                                                                                                                                                                                                                                                                                                                                                                                                                                                                                       1\n",
       "No - the trails are fine as they are if the speed limit on trails is 20kms where will the cyclist ride?                                                                                                                                                                                                                                                                                                                                                                                                                            1\n",
       "Yes - more signage Yes - more enforcement (ticketing) No e-bikes (the ones with useless pedals) on these trails at all                                                                                                                                                                                                                                                                                                                                                                                                             1\n",
       "Better Trails (more separation) Higher speeds for all cyclists (pedal and e-bike)                                                                                                                                                                                                                                                                                                                                                                                                                                                  1\n",
       "pedastrians need to made aware that bicycles travel fast & they should look before moving onto trails                                                                                                                                                                                                                                                                                                                                                                                                                              1\n",
       "If they're exceeding the speed limit and its crowded; ticket if its empty warning                                                                                                                                                                                                                                                                                                                                                                                                                                                  1\n",
       "Not sure                                                                                                                                                                                                                                                                                                                                                                                                                                                                                                                           1\n",
       "r u talking trails or bike lanes on roads survey is poorly written                                                                                                                                                                                                                                                                                                                                                                                                                                                                 1\n",
       "i have no opinion                                                                                                                                                                                                                                                                                                                                                                                                                                                                                                                  1\n",
       "Yes - more enforcement (ticketing) Yes - more educational programs ebikes should not be permitted only wheel chairs for the disables shuld be permitted                                                                                                                                                                                                                                                                                                                                                                            1\n",
       "Yes - more educational programs Be fair about any new laws or ticketing  Cars speeding on roads injure and kill orders of magnitude more people under age 40 than  well all other causes combined actually                                                                                                                                                                                                                                                                                                                         1\n",
       "the speed is not the problem all trail users need to have high situational awareness                                                                                                                                                                                                                                                                                                                                                                                                                                               1\n",
       "No - the trails are fine as they are 2 problems: corners with limited visibility and pedestrians who are completely unaware of their surroundings  Large portions of the trail have good visibility and few pedestrians so a blanket speed limit makes no sense  Even at 20KM per hour if 2 cyclists hit in a corner or a pedestrian darts out there's potential for injury  Perhaps a designated pedestrian and designated cycle track would work in fact some of the lakeshore multi-use paths are already marked this way       1\n",
       "No - the trails are fine as they are i worry more about runners                                                                                                                                                                                                                                                                                                                                                                                                                                                                    1\n",
       "Yes - more signage Yes - more educational programs Pedestrians need to be made aware  Serious cyclists need to be discouraged from using them to train  E-bikes should not be allowed on the trails at all  No e-bike ever uses the pedals                                                                                                                                                                                                                                                                                         1\n",
       "do not allow any vehicles that are not humanly powered with the exception of wheelchairs                                                                                                                                                                                                                                                                                                                                                                                                                                           1\n",
       "No e-bikes                                                                                                                                                                                                                                                                                                                                                                                                                                                                                                                         1\n",
       "I have not found speeds to necessarily have been a major cause for concern but unsafe passing and lack of awareness by many that these are shared trails seems more important than enforcing speed limits only                                                                                                                                                                                                                                                                                                                     1\n",
       "Yes - more signage signage is only really required in the more congested trail areas (central waterfront) - the speed limit is ridiculously slow for someone on a bike on the outskirts with very few other users on the trail to navigate - common sense should apply with people slowing down when there are more trail users                                                                                                                                                                                                    1\n",
       "Just keep the e-bikes off and all will be fine                                                                                                                                                                                                                                                                                                                                                                                                                                                                                     1\n",
       "speed should not be enforced Travel according to time of day and conditions                                                                                                                                                                                                                                                                                                                                                                                                                                                        1\n",
       "Yes - more signage How is a cyclist supposed to know how if they are exceeding 20km per hour?                                                                                                                                                                                                                                                                                                                                                                                                                                      1\n",
       "Name: Do you think more should be done to manage trail users who do not respect the 20 km/h speed limit?, dtype: int64"
      ]
     },
     "execution_count": 109,
     "metadata": {},
     "output_type": "execute_result"
    }
   ],
   "source": [
    "trail_user_speedlimit = survey[\"Do you think more should be done to manage trail users who do not respect the 20 km/h speed limit?\"]\n",
    "trail_user_speedlimit.value_counts()"
   ]
  },
  {
   "cell_type": "code",
   "execution_count": 111,
   "metadata": {
    "collapsed": false
   },
   "outputs": [
    {
     "data": {
      "text/plain": [
       "count                                     2237\n",
       "unique                                     134\n",
       "top       No - the trails are fine as they are\n",
       "freq                                       646\n",
       "Name: Do you think more should be done to manage trail users who do not respect the 20 km/h speed limit?, dtype: object"
      ]
     },
     "execution_count": 111,
     "metadata": {},
     "output_type": "execute_result"
    }
   ],
   "source": [
    "trail_user_speedlimit.describe()"
   ]
  },
  {
   "cell_type": "code",
   "execution_count": 112,
   "metadata": {
    "collapsed": false
   },
   "outputs": [
    {
     "data": {
      "text/plain": [
       "count                                     2238\n",
       "unique                                     134\n",
       "top       No - the trails are fine as they are\n",
       "freq                                       647\n",
       "Name: Do you think more should be done to manage trail users who do not respect the 20 km/h speed limit?, dtype: object"
      ]
     },
     "execution_count": 112,
     "metadata": {},
     "output_type": "execute_result"
    }
   ],
   "source": [
    "trail_user_speedlimit.fillna(\"No - the trails are fine as they are\", limit = 1, inplace=True)\n",
    "trail_user_speedlimit.describe()"
   ]
  },
  {
   "cell_type": "code",
   "execution_count": 115,
   "metadata": {
    "collapsed": false
   },
   "outputs": [
    {
     "data": {
      "text/plain": [
       "Yes - more signage Yes - more enforcement (ticketing) Yes - more educational programs                                                                                                                                  1507\n",
       "No - the trails are fine as they are                                                                                                                                                                                    691\n",
       "Prohibit e-bikes as they regularly travel faster than the 20 km/h speed limit                                                                                                                                             1\n",
       "Divide the trails into slow and fast lanes                                                                                                                                                                                1\n",
       "signage to encourage users to walk on the GRASS                                                                                                                                                                           1\n",
       "This speed limit is ridiculous                                                                                                                                                                                            1\n",
       "A campaign to raise awareness that the trails have many uses and courtesy is required                                                                                                                                     1\n",
       "dont use trails                                                                                                                                                                                                           1\n",
       "20 km/hr is too low There should be a minimum too                                                                                                                                                                         1\n",
       "Build a complete on-street bike network                                                                                                                                                                                   1\n",
       "discretionary depending on the volume of trail traffic                                                                                                                                                                    1\n",
       "pedastrians need to made aware that bicycles travel fast & they should look before moving onto trails                                                                                                                     1\n",
       "I won't use them because the 20km/hr is too slow for a fit cyclist                                                                                                                                                        1\n",
       "Ban e-bikes remind pedestrians they are shared use                                                                                                                                                                        1\n",
       "I rarely use trails and am unfamiliar with any potential issues                                                                                                                                                           1\n",
       "The trails need expansion and widening to handle cyclist who want to commute (speeds of 25 to 30km/h as well as slower cyclists but pedestrians shouldn't be on them                                                      1\n",
       "Stanley park does a great job splitting the users between pedestrian traffic and cyclists There is something to learn from this                                                                                           1\n",
       "IDK                                                                                                                                                                                                                       1\n",
       "like roads perhaps heavy traffic areas could possibly have a lower speed than more remote areas                                                                                                                           1\n",
       "automatic limiting of motor                                                                                                                                                                                               1\n",
       "Bikes don't have speedometers so the issue is very difficult                                                                                                                                                              1\n",
       "Just keep the e-bikes off and all will be fine                                                                                                                                                                            1\n",
       "make it 60kmh                                                                                                                                                                                                             1\n",
       "I can't say as I don't use them This should be an answer option                                                                                                                                                           1\n",
       "Ban all but walkers and mobility devices                                                                                                                                                                                  1\n",
       "Video survalience with prosecution                                                                                                                                                                                        1\n",
       "I've never encountered this problem                                                                                                                                                                                       1\n",
       "More infrastructure to better separate walkers from dedicated bike paths would be a smart investment for all path users                                                                                                   1\n",
       "more enforcemnnt but i disagree with tickets as the people are struggling as it is and added tickets and fines will cause more people to resort to driving without insurance ans skimping on more important things        1\n",
       "e-scooters are too big and should be banned from multi-use trails                                                                                                                                                         1\n",
       "more separation between cycling and walking                                                                                                                                                                               1\n",
       "ban e-bikes - few cyclists can get over 20km/h                                                                                                                                                                            1\n",
       "More enforcement during peak times                                                                                                                                                                                        1\n",
       "make more trails to relieve congestion                                                                                                                                                                                    1\n",
       "r u talking trails or bike lanes on roads survey is poorly written                                                                                                                                                        1\n",
       "alongside the Beaches boardwalk direct pedestrians to use the boardwalk                                                                                                                                                   1\n",
       "If they're exceeding the speed limit and its crowded; ticket if its empty warning                                                                                                                                         1\n",
       "Better Trails (more separation) Higher speeds for all cyclists (pedal and e-bike)                                                                                                                                         1\n",
       "ebike and cyclist only paths                                                                                                                                                                                              1\n",
       "Havn't been on Toronto's trails                                                                                                                                                                                           1\n",
       "walk lane run lane fast lane                                                                                                                                                                                              1\n",
       "As per the question below if scooter-type e-bikes are allowed on trails speed limit enforcement should be deployed to keep speeds at safe levels (20km/h or less?)                                                        1\n",
       "Name: Do you think more should be done to manage trail users who do not respect the 20 km/h speed limit?, dtype: int64"
      ]
     },
     "execution_count": 115,
     "metadata": {},
     "output_type": "execute_result"
    }
   ],
   "source": [
    "trail_user_speedlimit[(trail_user_speedlimit.str.contains(\"Yes\", False))] = \"Yes - more signage Yes - more enforcement (ticketing) Yes - more educational programs\"\n",
    "trail_user_speedlimit[(trail_user_speedlimit.str.contains(\"No\", False))] = \"No - the trails are fine as they are\"\n",
    "\n",
    "trail_user_speedlimit.value_counts()"
   ]
  },
  {
   "cell_type": "markdown",
   "metadata": {},
   "source": [
    "It appears as if the non binary options all point towards more regulation so we will classify them as a yes. "
   ]
  },
  {
   "cell_type": "code",
   "execution_count": 144,
   "metadata": {
    "collapsed": false
   },
   "outputs": [
    {
     "data": {
      "text/plain": [
       "Yes - more signage Yes - more enforcement (ticketing) Yes - more educational programs    1547\n",
       "No - the trails are fine as they are                                                      691\n",
       "Name: Do you think more should be done to manage trail users who do not respect the 20 km/h speed limit?, dtype: int64"
      ]
     },
     "execution_count": 144,
     "metadata": {},
     "output_type": "execute_result"
    }
   ],
   "source": [
    "trail_user_speedlimit[(trail_user_speedlimit != \"Yes - more signage Yes - more enforcement (ticketing) Yes - more educational programs\") & (trail_user_speedlimit != \"No - the trails are fine as they are\")] = \"Yes - more signage Yes - more enforcement (ticketing) Yes - more educational programs\"\n",
    "trail_user_speedlimit.value_counts()"
   ]
  },
  {
   "cell_type": "code",
   "execution_count": 145,
   "metadata": {
    "collapsed": false
   },
   "outputs": [
    {
     "data": {
      "text/plain": [
       "1    1358\n",
       "0     880\n",
       "Name: Have you witnessed a collision or conflict on a trail between, dtype: int64"
      ]
     },
     "execution_count": 145,
     "metadata": {},
     "output_type": "execute_result"
    }
   ],
   "source": [
    "conflict_collision[conflict_collision == \"Yes - more signage Yes - more enforcement (ticketing) Yes - more educational programs\"] = 1\n",
    "conflict_collision[conflict_collision == \"No - the trails are fine as they are\"] = 0\n",
    "conflict_collision.value_counts()"
   ]
  },
  {
   "cell_type": "markdown",
   "metadata": {},
   "source": [
    "# Bike Lane Usage"
   ]
  },
  {
   "cell_type": "code",
   "execution_count": 146,
   "metadata": {
    "collapsed": false
   },
   "outputs": [
    {
     "data": {
      "text/plain": [
       "ride a commuter or cruiser style bicycle                                                                                                                                                                                                             705\n",
       "ride a road bicycle or a fixie                                                                                                                                                                                                                       574\n",
       "ride a mountain downhill or BMX bicycle                                                                                                                                                                                                              347\n",
       "I do not use bicycle lanes                                                                                                                                                                                                                           288\n",
       "pedal a pedal assist type e-bike                                                                                                                                                                                                                     117\n",
       "drive a scooter type e-bike propelled by an electric motor                                                                                                                                                                                           109\n",
       "ride a folding or recumbent                                                                                                                                                                                                                           30\n",
       "Bixi                                                                                                                                                                                                                                                   3\n",
       "ride bike pulling trailer with kids                                                                                                                                                                                                                    2\n",
       "Motorcycle                                                                                                                                                                                                                                             2\n",
       "I ride a hybrid                                                                                                                                                                                                                                        2\n",
       "ride a hybrid bicycle                                                                                                                                                                                                                                  2\n",
       "rollerblades                                                                                                                                                                                                                                           1\n",
       "there are no bicycle lanes on my commute but i use a cruiser/commuter bike                                                                                                                                                                             1\n",
       "Cruisers and single speed                                                                                                                                                                                                                              1\n",
       "unlike mississauga i use the ebike roadway                                                                                                                                                                                                             1\n",
       "cant use bike lanes due to bylaw                                                                                                                                                                                                                       1\n",
       "You folks realize that most pedal-assist e-bikes have throttles too right? Pedaling is optional regardless of the frame type                                                                                                                           1\n",
       "ride a touring bike - a road bicycle built for comfort and efficiency not speed                                                                                                                                                                        1\n",
       "yes in mississauga/no in toronto                                                                                                                                                                                                                       1\n",
       "If lane is in occupied by bikes I do drive on it but if it has lots of bikes I don't                                                                                                                                                                   1\n",
       "there is no option in the previous question to say -- no ebikes at all on bike trails -- no roller blades or assisted vehicles                                                                                                                         1\n",
       "tandem                                                                                                                                                                                                                                                 1\n",
       "motor an electric assist bicycle                                                                                                                                                                                                                       1\n",
       "I commute on different kinds of bikes                                                                                                                                                                                                                  1\n",
       "I ride my motorcycle in the bicycle lanes                                                                                                                                                                                                              1\n",
       "Cargo bike                                                                                                                                                                                                                                             1\n",
       "As a motorcyclist I think bicycle lanes should be used for motorcycles to pass other vehicles when safe to do so and at red lights                                                                                                                     1\n",
       "use bicycle lanes only to avoid slowing down car traffic only when bicycles are not in sight                                                                                                                                                           1\n",
       "50 - 50 road bike and commuter bike depending on weather                                                                                                                                                                                               1\n",
       "                                                                                                                                                                                                                                                    ... \n",
       "I do not like riding my pedal cruiser style bike on the road bike lanes any more too dangerous Even the paths and trails can be dangerous now too                                                                                                      1\n",
       "oops                                                                                                                                                                                                                                                   1\n",
       "I commute on my '80s steel road bike with upright bars a free wheel and a single speed                                                                                                                                                                 1\n",
       "I only use bike lanes with my e-bike when necessary as I know it is currently illegal                                                                                                                                                                  1\n",
       "electric assist recumbent bicycle                                                                                                                                                                                                                      1\n",
       "tandem bike                                                                                                                                                                                                                                            1\n",
       "I used to ride a commuter bicycle but then it got stolen I don't want to buy another one because they just get stolen all the time                                                                                                                     1\n",
       "BIXI                                                                                                                                                                                                                                                   1\n",
       "Do not use e-bikes may not use bike lanes Bylaw #886                                                                                                                                                                                                   1\n",
       "three wheel bicycle                                                                                                                                                                                                                                    1\n",
       "bike with a trailer bike for my son                                                                                                                                                                                                                    1\n",
       "I don't bike any more                                                                                                                                                                                                                                  1\n",
       "Why not just ask if we ride an e-bike or not? Fixie cruiser etc is irrelevant                                                                                                                                                                          1\n",
       "i have several bikes                                                                                                                                                                                                                                   1\n",
       "I do not use bicycle lanes because the city does not put the safety of cyclists first by any means and I would be frankly terrified to cycle downtown I much prefer Montreal's bike lanes that are wholly separate from both roads and sidewalks       1\n",
       "Duel Sport Bicycle                                                                                                                                                                                                                                     1\n",
       "use the motor on a pedal assist type e-bike                                                                                                                                                                                                            1\n",
       "hybrid                                                                                                                                                                                                                                                 1\n",
       "skateboard/longboard                                                                                                                                                                                                                                   1\n",
       "cargo trike                                                                                                                                                                                                                                            1\n",
       "5000W custom high power electric bicycle (non-scooter)                                                                                                                                                                                                 1\n",
       "commuter bike WITH trailer                                                                                                                                                                                                                             1\n",
       "ride a cargo bike                                                                                                                                                                                                                                      1\n",
       "use a bixi                                                                                                                                                                                                                                             1\n",
       "I ride a single speed bike but rarely if ever in bike lanes; I can keep up with motor vehicle traffic traffic on my bike and I feel unsafe in bike lanes due to all of the scooter-style e-bikes                                                       1\n",
       "what's a fixie?                                                                                                                                                                                                                                        1\n",
       "my bicycle is attached to my mom's                                                                                                                                                                                                                     1\n",
       "If I purchase an e-bike them I would like to be able to use it on bike lanes responsiby                                                                                                                                                                1\n",
       "Muscle-powered tricycle                                                                                                                                                                                                                                1\n",
       "A touring bike  It's basically a cross between a commuter and a road bike                                                                                                                                                                              1\n",
       "Name: When you use Toronto's bicycle lanes do you mostly, dtype: int64"
      ]
     },
     "execution_count": 146,
     "metadata": {},
     "output_type": "execute_result"
    }
   ],
   "source": [
    "bike_lane = survey[\"When you use Toronto's bicycle lanes do you mostly\"]\n",
    "bike_lane.value_counts()"
   ]
  },
  {
   "cell_type": "code",
   "execution_count": 147,
   "metadata": {
    "collapsed": false
   },
   "outputs": [
    {
     "data": {
      "text/plain": [
       "count                                         2238\n",
       "unique                                          69\n",
       "top       ride a commuter or cruiser style bicycle\n",
       "freq                                           705\n",
       "Name: When you use Toronto's bicycle lanes do you mostly, dtype: object"
      ]
     },
     "execution_count": 147,
     "metadata": {},
     "output_type": "execute_result"
    }
   ],
   "source": [
    "bike_lane.describe()"
   ]
  },
  {
   "cell_type": "code",
   "execution_count": 2,
   "metadata": {
    "collapsed": false
   },
   "outputs": [
    {
     "ename": "NameError",
     "evalue": "name 'survey' is not defined",
     "output_type": "error",
     "traceback": [
      "\u001b[0;31m---------------------------------------------------------------------------\u001b[0m",
      "\u001b[0;31mNameError\u001b[0m                                 Traceback (most recent call last)",
      "\u001b[0;32m<ipython-input-2-607f08b855ec>\u001b[0m in \u001b[0;36m<module>\u001b[0;34m()\u001b[0m\n\u001b[0;32m----> 1\u001b[0;31m \u001b[0msurvey\u001b[0m\u001b[0;34m.\u001b[0m\u001b[0mhead\u001b[0m\u001b[0;34m(\u001b[0m\u001b[0;36m5\u001b[0m\u001b[0;34m)\u001b[0m\u001b[0;34m\u001b[0m\u001b[0m\n\u001b[0m",
      "\u001b[0;31mNameError\u001b[0m: name 'survey' is not defined"
     ]
    }
   ],
   "source": [
    "survey.head(5)"
   ]
  },
  {
   "cell_type": "code",
   "execution_count": null,
   "metadata": {
    "collapsed": true
   },
   "outputs": [],
   "source": []
  },
  {
   "cell_type": "code",
   "execution_count": null,
   "metadata": {
    "collapsed": true
   },
   "outputs": [],
   "source": []
  }
 ],
 "metadata": {
  "kernelspec": {
   "display_name": "Python 2",
   "language": "python",
   "name": "python2"
  },
  "language_info": {
   "codemirror_mode": {
    "name": "ipython",
    "version": 2
   },
   "file_extension": ".py",
   "mimetype": "text/x-python",
   "name": "python",
   "nbconvert_exporter": "python",
   "pygments_lexer": "ipython2",
   "version": "2.7.13"
  }
 },
 "nbformat": 4,
 "nbformat_minor": 2
}
